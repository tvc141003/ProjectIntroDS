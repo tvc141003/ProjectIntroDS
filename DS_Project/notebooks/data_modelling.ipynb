{
 "cells": [
  {
   "cell_type": "markdown",
   "metadata": {},
   "source": [
    "<a id=\"1\"></a>\n",
    "# <div style=\"padding: 20px; color: cyan; margin: 0; font-size: 30px; font-family: Arial; text-align: left; border-radius: 5px; background-color: #000000; border: 2px solid blue;\"><b>Machine Learning Model</b></div>"
   ]
  },
  {
   "cell_type": "code",
   "execution_count": 29,
   "metadata": {},
   "outputs": [],
   "source": [
    "import pandas as pd\n",
    "import numpy as np\n",
    "import sklearn\n",
    "from sklearn.tree import DecisionTreeClassifier\n",
    "from sklearn.naive_bayes import GaussianNB\n",
    "from sklearn.metrics import accuracy_score\n",
    "import matplotlib.pyplot as plt\n",
    "import tensorflow as tf\n",
    "import sklearn.preprocessing\n",
    "from tensorflow import keras"
   ]
  },
  {
   "cell_type": "markdown",
   "metadata": {},
   "source": [
    "<a id=\"1.2\"></a>\n",
    "<h2 style=\" font-family: Arial; font-size: 20px; font-style: normal; font-weight: normal; text-decoration: none; text-transform: none; letter-spacing: 2px; color: #008B8B; padding: 15px; border-top: 2px solid blue; border-bottom: 2px solid blue;\n",
    "\"><b>Data </b> Preparation"
   ]
  },
  {
   "cell_type": "code",
   "execution_count": 2,
   "metadata": {},
   "outputs": [
    {
     "data": {
      "text/html": [
       "<div>\n",
       "<style scoped>\n",
       "    .dataframe tbody tr th:only-of-type {\n",
       "        vertical-align: middle;\n",
       "    }\n",
       "\n",
       "    .dataframe tbody tr th {\n",
       "        vertical-align: top;\n",
       "    }\n",
       "\n",
       "    .dataframe thead th {\n",
       "        text-align: right;\n",
       "    }\n",
       "</style>\n",
       "<table border=\"1\" class=\"dataframe\">\n",
       "  <thead>\n",
       "    <tr style=\"text-align: right;\">\n",
       "      <th></th>\n",
       "      <th>min_players</th>\n",
       "      <th>max_players</th>\n",
       "      <th>min_playtime</th>\n",
       "      <th>max_playtime</th>\n",
       "      <th>playing_time</th>\n",
       "      <th>min_age</th>\n",
       "      <th>complexity_rating</th>\n",
       "      <th>user_ratings</th>\n",
       "      <th>user_comments</th>\n",
       "      <th>type</th>\n",
       "      <th>category</th>\n",
       "      <th>mechanism</th>\n",
       "      <th>average_rating</th>\n",
       "    </tr>\n",
       "  </thead>\n",
       "  <tbody>\n",
       "    <tr>\n",
       "      <th>0</th>\n",
       "      <td>2</td>\n",
       "      <td>4</td>\n",
       "      <td>30</td>\n",
       "      <td>60</td>\n",
       "      <td>45</td>\n",
       "      <td>10</td>\n",
       "      <td>2.47</td>\n",
       "      <td>16000</td>\n",
       "      <td>4000</td>\n",
       "      <td>Strategy</td>\n",
       "      <td>Abstract Strategy</td>\n",
       "      <td>Area Majority / Influence</td>\n",
       "      <td>7.5</td>\n",
       "    </tr>\n",
       "    <tr>\n",
       "      <th>1</th>\n",
       "      <td>2</td>\n",
       "      <td>4</td>\n",
       "      <td>30</td>\n",
       "      <td>60</td>\n",
       "      <td>45</td>\n",
       "      <td>10</td>\n",
       "      <td>2.47</td>\n",
       "      <td>16000</td>\n",
       "      <td>4000</td>\n",
       "      <td>Strategy</td>\n",
       "      <td>Abstract Strategy</td>\n",
       "      <td>Hand Management</td>\n",
       "      <td>7.5</td>\n",
       "    </tr>\n",
       "    <tr>\n",
       "      <th>2</th>\n",
       "      <td>2</td>\n",
       "      <td>4</td>\n",
       "      <td>30</td>\n",
       "      <td>60</td>\n",
       "      <td>45</td>\n",
       "      <td>10</td>\n",
       "      <td>2.47</td>\n",
       "      <td>16000</td>\n",
       "      <td>4000</td>\n",
       "      <td>Strategy</td>\n",
       "      <td>Abstract Strategy</td>\n",
       "      <td>Hexagon Grid</td>\n",
       "      <td>7.5</td>\n",
       "    </tr>\n",
       "    <tr>\n",
       "      <th>3</th>\n",
       "      <td>2</td>\n",
       "      <td>4</td>\n",
       "      <td>30</td>\n",
       "      <td>60</td>\n",
       "      <td>45</td>\n",
       "      <td>10</td>\n",
       "      <td>2.47</td>\n",
       "      <td>16000</td>\n",
       "      <td>4000</td>\n",
       "      <td>Strategy</td>\n",
       "      <td>Abstract Strategy</td>\n",
       "      <td>Once-Per-Game Abilities</td>\n",
       "      <td>7.5</td>\n",
       "    </tr>\n",
       "    <tr>\n",
       "      <th>4</th>\n",
       "      <td>2</td>\n",
       "      <td>4</td>\n",
       "      <td>30</td>\n",
       "      <td>60</td>\n",
       "      <td>45</td>\n",
       "      <td>10</td>\n",
       "      <td>2.47</td>\n",
       "      <td>16000</td>\n",
       "      <td>4000</td>\n",
       "      <td>Strategy</td>\n",
       "      <td>Abstract Strategy</td>\n",
       "      <td>Set Collection</td>\n",
       "      <td>7.5</td>\n",
       "    </tr>\n",
       "  </tbody>\n",
       "</table>\n",
       "</div>"
      ],
      "text/plain": [
       "   min_players  max_players  min_playtime  max_playtime  playing_time  \\\n",
       "0            2            4            30            60            45   \n",
       "1            2            4            30            60            45   \n",
       "2            2            4            30            60            45   \n",
       "3            2            4            30            60            45   \n",
       "4            2            4            30            60            45   \n",
       "\n",
       "   min_age  complexity_rating  user_ratings  user_comments      type  \\\n",
       "0       10               2.47         16000           4000  Strategy   \n",
       "1       10               2.47         16000           4000  Strategy   \n",
       "2       10               2.47         16000           4000  Strategy   \n",
       "3       10               2.47         16000           4000  Strategy   \n",
       "4       10               2.47         16000           4000  Strategy   \n",
       "\n",
       "            category                  mechanism  average_rating  \n",
       "0  Abstract Strategy  Area Majority / Influence             7.5  \n",
       "1  Abstract Strategy            Hand Management             7.5  \n",
       "2  Abstract Strategy               Hexagon Grid             7.5  \n",
       "3  Abstract Strategy    Once-Per-Game Abilities             7.5  \n",
       "4  Abstract Strategy             Set Collection             7.5  "
      ]
     },
     "execution_count": 2,
     "metadata": {},
     "output_type": "execute_result"
    }
   ],
   "source": [
    "df = pd.read_csv(\"../data/processed/processed_data.csv\")\n",
    "df.head(5)"
   ]
  },
  {
   "cell_type": "code",
   "execution_count": 3,
   "metadata": {},
   "outputs": [
    {
     "name": "stdout",
     "output_type": "stream",
     "text": [
      "<class 'pandas.core.frame.DataFrame'>\n",
      "RangeIndex: 41927 entries, 0 to 41926\n",
      "Data columns (total 13 columns):\n",
      " #   Column             Non-Null Count  Dtype  \n",
      "---  ------             --------------  -----  \n",
      " 0   min_players        41927 non-null  int64  \n",
      " 1   max_players        41927 non-null  int64  \n",
      " 2   min_playtime       41927 non-null  int64  \n",
      " 3   max_playtime       41927 non-null  int64  \n",
      " 4   playing_time       41927 non-null  int64  \n",
      " 5   min_age            41927 non-null  int64  \n",
      " 6   complexity_rating  41927 non-null  float64\n",
      " 7   user_ratings       41927 non-null  int64  \n",
      " 8   user_comments      41927 non-null  int64  \n",
      " 9   type               41927 non-null  object \n",
      " 10  category           41927 non-null  object \n",
      " 11  mechanism          41927 non-null  object \n",
      " 12  average_rating     41927 non-null  float64\n",
      "dtypes: float64(2), int64(8), object(3)\n",
      "memory usage: 4.2+ MB\n"
     ]
    }
   ],
   "source": [
    "df.info()"
   ]
  },
  {
   "cell_type": "markdown",
   "metadata": {},
   "source": [
    "<a id=\"1.2\"></a>\n",
    "<h2 style=\" font-family: Arial; font-size: 20px; font-style: normal; font-weight: normal; text-decoration: none; text-transform: none; letter-spacing: 2px; color: #008B8B; padding: 15px; border-top: 2px solid blue; border-bottom: 2px solid blue;\n",
    "\"><b>Feature </b> engineering"
   ]
  },
  {
   "cell_type": "code",
   "execution_count": 4,
   "metadata": {},
   "outputs": [],
   "source": [
    "def convertCategoryToIndex(value, category):\n",
    "    return category.index(value)"
   ]
  },
  {
   "cell_type": "markdown",
   "metadata": {},
   "source": [
    "## Convert data to float in column type, category and mechanism"
   ]
  },
  {
   "cell_type": "code",
   "execution_count": 5,
   "metadata": {},
   "outputs": [
    {
     "data": {
      "text/html": [
       "<div>\n",
       "<style scoped>\n",
       "    .dataframe tbody tr th:only-of-type {\n",
       "        vertical-align: middle;\n",
       "    }\n",
       "\n",
       "    .dataframe tbody tr th {\n",
       "        vertical-align: top;\n",
       "    }\n",
       "\n",
       "    .dataframe thead th {\n",
       "        text-align: right;\n",
       "    }\n",
       "</style>\n",
       "<table border=\"1\" class=\"dataframe\">\n",
       "  <thead>\n",
       "    <tr style=\"text-align: right;\">\n",
       "      <th></th>\n",
       "      <th>min_players</th>\n",
       "      <th>max_players</th>\n",
       "      <th>min_playtime</th>\n",
       "      <th>max_playtime</th>\n",
       "      <th>playing_time</th>\n",
       "      <th>min_age</th>\n",
       "      <th>complexity_rating</th>\n",
       "      <th>user_ratings</th>\n",
       "      <th>user_comments</th>\n",
       "      <th>type</th>\n",
       "      <th>category</th>\n",
       "      <th>mechanism</th>\n",
       "      <th>average_rating</th>\n",
       "    </tr>\n",
       "  </thead>\n",
       "  <tbody>\n",
       "    <tr>\n",
       "      <th>0</th>\n",
       "      <td>2</td>\n",
       "      <td>4</td>\n",
       "      <td>30</td>\n",
       "      <td>60</td>\n",
       "      <td>45</td>\n",
       "      <td>10</td>\n",
       "      <td>2.47</td>\n",
       "      <td>16000</td>\n",
       "      <td>4000</td>\n",
       "      <td>0</td>\n",
       "      <td>0</td>\n",
       "      <td>0</td>\n",
       "      <td>75</td>\n",
       "    </tr>\n",
       "    <tr>\n",
       "      <th>1</th>\n",
       "      <td>2</td>\n",
       "      <td>4</td>\n",
       "      <td>30</td>\n",
       "      <td>60</td>\n",
       "      <td>45</td>\n",
       "      <td>10</td>\n",
       "      <td>2.47</td>\n",
       "      <td>16000</td>\n",
       "      <td>4000</td>\n",
       "      <td>0</td>\n",
       "      <td>0</td>\n",
       "      <td>1</td>\n",
       "      <td>75</td>\n",
       "    </tr>\n",
       "    <tr>\n",
       "      <th>2</th>\n",
       "      <td>2</td>\n",
       "      <td>4</td>\n",
       "      <td>30</td>\n",
       "      <td>60</td>\n",
       "      <td>45</td>\n",
       "      <td>10</td>\n",
       "      <td>2.47</td>\n",
       "      <td>16000</td>\n",
       "      <td>4000</td>\n",
       "      <td>0</td>\n",
       "      <td>0</td>\n",
       "      <td>2</td>\n",
       "      <td>75</td>\n",
       "    </tr>\n",
       "    <tr>\n",
       "      <th>3</th>\n",
       "      <td>2</td>\n",
       "      <td>4</td>\n",
       "      <td>30</td>\n",
       "      <td>60</td>\n",
       "      <td>45</td>\n",
       "      <td>10</td>\n",
       "      <td>2.47</td>\n",
       "      <td>16000</td>\n",
       "      <td>4000</td>\n",
       "      <td>0</td>\n",
       "      <td>0</td>\n",
       "      <td>3</td>\n",
       "      <td>75</td>\n",
       "    </tr>\n",
       "    <tr>\n",
       "      <th>4</th>\n",
       "      <td>2</td>\n",
       "      <td>4</td>\n",
       "      <td>30</td>\n",
       "      <td>60</td>\n",
       "      <td>45</td>\n",
       "      <td>10</td>\n",
       "      <td>2.47</td>\n",
       "      <td>16000</td>\n",
       "      <td>4000</td>\n",
       "      <td>0</td>\n",
       "      <td>0</td>\n",
       "      <td>4</td>\n",
       "      <td>75</td>\n",
       "    </tr>\n",
       "  </tbody>\n",
       "</table>\n",
       "</div>"
      ],
      "text/plain": [
       "   min_players  max_players  min_playtime  max_playtime  playing_time  \\\n",
       "0            2            4            30            60            45   \n",
       "1            2            4            30            60            45   \n",
       "2            2            4            30            60            45   \n",
       "3            2            4            30            60            45   \n",
       "4            2            4            30            60            45   \n",
       "\n",
       "   min_age  complexity_rating  user_ratings  user_comments  type  category  \\\n",
       "0       10               2.47         16000           4000     0         0   \n",
       "1       10               2.47         16000           4000     0         0   \n",
       "2       10               2.47         16000           4000     0         0   \n",
       "3       10               2.47         16000           4000     0         0   \n",
       "4       10               2.47         16000           4000     0         0   \n",
       "\n",
       "   mechanism  average_rating  \n",
       "0          0              75  \n",
       "1          1              75  \n",
       "2          2              75  \n",
       "3          3              75  \n",
       "4          4              75  "
      ]
     },
     "execution_count": 5,
     "metadata": {},
     "output_type": "execute_result"
    }
   ],
   "source": [
    "df['average_rating'] = df['average_rating'] * 10\n",
    "df['average_rating'] = df['average_rating'].astype('int')\n",
    "df['type'] = df['type'].apply(convertCategoryToIndex, category = list(df['type'].unique()))\n",
    "df['category'] = df['category'].apply(convertCategoryToIndex, category = list(df['category'].unique()))\n",
    "df['mechanism'] = df['mechanism'].apply(convertCategoryToIndex, category = list(df['mechanism'].unique()))\n",
    "# df = pd.get_dummies(df)\n",
    "# label = df['average_rating']\n",
    "# df.drop(columns=['average_rating'], inplace=True)\n",
    "# df.drop(columns=['type', 'category', 'mechanism'], inplace=True)\n",
    "# df = pd.concat([df, label], axis=1)\n",
    "df.head(5)"
   ]
  },
  {
   "cell_type": "markdown",
   "metadata": {},
   "source": [
    "## Min-Max scale value to 0-1"
   ]
  },
  {
   "cell_type": "code",
   "execution_count": 6,
   "metadata": {},
   "outputs": [
    {
     "data": {
      "text/html": [
       "<div>\n",
       "<style scoped>\n",
       "    .dataframe tbody tr th:only-of-type {\n",
       "        vertical-align: middle;\n",
       "    }\n",
       "\n",
       "    .dataframe tbody tr th {\n",
       "        vertical-align: top;\n",
       "    }\n",
       "\n",
       "    .dataframe thead th {\n",
       "        text-align: right;\n",
       "    }\n",
       "</style>\n",
       "<table border=\"1\" class=\"dataframe\">\n",
       "  <thead>\n",
       "    <tr style=\"text-align: right;\">\n",
       "      <th></th>\n",
       "      <th>min_players</th>\n",
       "      <th>max_players</th>\n",
       "      <th>min_playtime</th>\n",
       "      <th>max_playtime</th>\n",
       "      <th>playing_time</th>\n",
       "      <th>min_age</th>\n",
       "      <th>complexity_rating</th>\n",
       "      <th>user_ratings</th>\n",
       "      <th>user_comments</th>\n",
       "      <th>type</th>\n",
       "      <th>category</th>\n",
       "      <th>mechanism</th>\n",
       "      <th>average_rating</th>\n",
       "    </tr>\n",
       "  </thead>\n",
       "  <tbody>\n",
       "    <tr>\n",
       "      <th>0</th>\n",
       "      <td>0.142857</td>\n",
       "      <td>0.030303</td>\n",
       "      <td>0.040334</td>\n",
       "      <td>0.082058</td>\n",
       "      <td>0.061196</td>\n",
       "      <td>0.285714</td>\n",
       "      <td>0.3675</td>\n",
       "      <td>0.761893</td>\n",
       "      <td>1.0</td>\n",
       "      <td>0.0</td>\n",
       "      <td>0.0</td>\n",
       "      <td>0.000000</td>\n",
       "      <td>75</td>\n",
       "    </tr>\n",
       "    <tr>\n",
       "      <th>1</th>\n",
       "      <td>0.142857</td>\n",
       "      <td>0.030303</td>\n",
       "      <td>0.040334</td>\n",
       "      <td>0.082058</td>\n",
       "      <td>0.061196</td>\n",
       "      <td>0.285714</td>\n",
       "      <td>0.3675</td>\n",
       "      <td>0.761893</td>\n",
       "      <td>1.0</td>\n",
       "      <td>0.0</td>\n",
       "      <td>0.0</td>\n",
       "      <td>0.005435</td>\n",
       "      <td>75</td>\n",
       "    </tr>\n",
       "    <tr>\n",
       "      <th>2</th>\n",
       "      <td>0.142857</td>\n",
       "      <td>0.030303</td>\n",
       "      <td>0.040334</td>\n",
       "      <td>0.082058</td>\n",
       "      <td>0.061196</td>\n",
       "      <td>0.285714</td>\n",
       "      <td>0.3675</td>\n",
       "      <td>0.761893</td>\n",
       "      <td>1.0</td>\n",
       "      <td>0.0</td>\n",
       "      <td>0.0</td>\n",
       "      <td>0.010870</td>\n",
       "      <td>75</td>\n",
       "    </tr>\n",
       "    <tr>\n",
       "      <th>3</th>\n",
       "      <td>0.142857</td>\n",
       "      <td>0.030303</td>\n",
       "      <td>0.040334</td>\n",
       "      <td>0.082058</td>\n",
       "      <td>0.061196</td>\n",
       "      <td>0.285714</td>\n",
       "      <td>0.3675</td>\n",
       "      <td>0.761893</td>\n",
       "      <td>1.0</td>\n",
       "      <td>0.0</td>\n",
       "      <td>0.0</td>\n",
       "      <td>0.016304</td>\n",
       "      <td>75</td>\n",
       "    </tr>\n",
       "    <tr>\n",
       "      <th>4</th>\n",
       "      <td>0.142857</td>\n",
       "      <td>0.030303</td>\n",
       "      <td>0.040334</td>\n",
       "      <td>0.082058</td>\n",
       "      <td>0.061196</td>\n",
       "      <td>0.285714</td>\n",
       "      <td>0.3675</td>\n",
       "      <td>0.761893</td>\n",
       "      <td>1.0</td>\n",
       "      <td>0.0</td>\n",
       "      <td>0.0</td>\n",
       "      <td>0.021739</td>\n",
       "      <td>75</td>\n",
       "    </tr>\n",
       "  </tbody>\n",
       "</table>\n",
       "</div>"
      ],
      "text/plain": [
       "   min_players  max_players  min_playtime  max_playtime  playing_time  \\\n",
       "0     0.142857     0.030303      0.040334      0.082058      0.061196   \n",
       "1     0.142857     0.030303      0.040334      0.082058      0.061196   \n",
       "2     0.142857     0.030303      0.040334      0.082058      0.061196   \n",
       "3     0.142857     0.030303      0.040334      0.082058      0.061196   \n",
       "4     0.142857     0.030303      0.040334      0.082058      0.061196   \n",
       "\n",
       "    min_age  complexity_rating  user_ratings  user_comments  type  category  \\\n",
       "0  0.285714             0.3675      0.761893            1.0   0.0       0.0   \n",
       "1  0.285714             0.3675      0.761893            1.0   0.0       0.0   \n",
       "2  0.285714             0.3675      0.761893            1.0   0.0       0.0   \n",
       "3  0.285714             0.3675      0.761893            1.0   0.0       0.0   \n",
       "4  0.285714             0.3675      0.761893            1.0   0.0       0.0   \n",
       "\n",
       "   mechanism  average_rating  \n",
       "0   0.000000              75  \n",
       "1   0.005435              75  \n",
       "2   0.010870              75  \n",
       "3   0.016304              75  \n",
       "4   0.021739              75  "
      ]
     },
     "execution_count": 6,
     "metadata": {},
     "output_type": "execute_result"
    }
   ],
   "source": [
    "columns = df.columns[:-1]\n",
    "for column in columns:\n",
    "    scaler = sklearn.preprocessing.MinMaxScaler()\n",
    "    df[column] = scaler.fit_transform(df[column].to_numpy().reshape(-1, 1))\n",
    "df.head(5)"
   ]
  },
  {
   "cell_type": "code",
   "execution_count": 7,
   "metadata": {},
   "outputs": [
    {
     "data": {
      "text/html": [
       "<div>\n",
       "<style scoped>\n",
       "    .dataframe tbody tr th:only-of-type {\n",
       "        vertical-align: middle;\n",
       "    }\n",
       "\n",
       "    .dataframe tbody tr th {\n",
       "        vertical-align: top;\n",
       "    }\n",
       "\n",
       "    .dataframe thead th {\n",
       "        text-align: right;\n",
       "    }\n",
       "</style>\n",
       "<table border=\"1\" class=\"dataframe\">\n",
       "  <thead>\n",
       "    <tr style=\"text-align: right;\">\n",
       "      <th></th>\n",
       "      <th>min_players</th>\n",
       "      <th>max_players</th>\n",
       "      <th>min_playtime</th>\n",
       "      <th>max_playtime</th>\n",
       "      <th>playing_time</th>\n",
       "      <th>min_age</th>\n",
       "      <th>complexity_rating</th>\n",
       "      <th>user_ratings</th>\n",
       "      <th>user_comments</th>\n",
       "      <th>type</th>\n",
       "      <th>category</th>\n",
       "      <th>mechanism</th>\n",
       "      <th>average_rating</th>\n",
       "    </tr>\n",
       "  </thead>\n",
       "  <tbody>\n",
       "    <tr>\n",
       "      <th>24512</th>\n",
       "      <td>0.142857</td>\n",
       "      <td>0.050505</td>\n",
       "      <td>0.123783</td>\n",
       "      <td>0.123783</td>\n",
       "      <td>0.123783</td>\n",
       "      <td>0.214286</td>\n",
       "      <td>0.000</td>\n",
       "      <td>0.000000</td>\n",
       "      <td>0.00000</td>\n",
       "      <td>0.250</td>\n",
       "      <td>0.535714</td>\n",
       "      <td>0.038043</td>\n",
       "      <td>20</td>\n",
       "    </tr>\n",
       "    <tr>\n",
       "      <th>8773</th>\n",
       "      <td>0.142857</td>\n",
       "      <td>0.111111</td>\n",
       "      <td>0.061196</td>\n",
       "      <td>0.061196</td>\n",
       "      <td>0.061196</td>\n",
       "      <td>0.142857</td>\n",
       "      <td>0.000</td>\n",
       "      <td>0.007619</td>\n",
       "      <td>0.01125</td>\n",
       "      <td>0.375</td>\n",
       "      <td>0.214286</td>\n",
       "      <td>0.119565</td>\n",
       "      <td>57</td>\n",
       "    </tr>\n",
       "    <tr>\n",
       "      <th>20233</th>\n",
       "      <td>0.000000</td>\n",
       "      <td>0.030303</td>\n",
       "      <td>0.137691</td>\n",
       "      <td>0.137691</td>\n",
       "      <td>0.137691</td>\n",
       "      <td>0.392857</td>\n",
       "      <td>0.000</td>\n",
       "      <td>0.000238</td>\n",
       "      <td>0.00100</td>\n",
       "      <td>0.250</td>\n",
       "      <td>0.226190</td>\n",
       "      <td>0.086957</td>\n",
       "      <td>67</td>\n",
       "    </tr>\n",
       "    <tr>\n",
       "      <th>879</th>\n",
       "      <td>0.142857</td>\n",
       "      <td>0.050505</td>\n",
       "      <td>0.040334</td>\n",
       "      <td>0.332406</td>\n",
       "      <td>0.186370</td>\n",
       "      <td>0.357143</td>\n",
       "      <td>0.615</td>\n",
       "      <td>0.190438</td>\n",
       "      <td>0.40000</td>\n",
       "      <td>0.500</td>\n",
       "      <td>0.273810</td>\n",
       "      <td>0.342391</td>\n",
       "      <td>70</td>\n",
       "    </tr>\n",
       "    <tr>\n",
       "      <th>32460</th>\n",
       "      <td>0.142857</td>\n",
       "      <td>0.030303</td>\n",
       "      <td>0.026426</td>\n",
       "      <td>0.068150</td>\n",
       "      <td>0.047288</td>\n",
       "      <td>0.285714</td>\n",
       "      <td>0.000</td>\n",
       "      <td>0.000095</td>\n",
       "      <td>0.00025</td>\n",
       "      <td>0.250</td>\n",
       "      <td>0.011905</td>\n",
       "      <td>0.097826</td>\n",
       "      <td>82</td>\n",
       "    </tr>\n",
       "  </tbody>\n",
       "</table>\n",
       "</div>"
      ],
      "text/plain": [
       "       min_players  max_players  min_playtime  max_playtime  playing_time  \\\n",
       "24512     0.142857     0.050505      0.123783      0.123783      0.123783   \n",
       "8773      0.142857     0.111111      0.061196      0.061196      0.061196   \n",
       "20233     0.000000     0.030303      0.137691      0.137691      0.137691   \n",
       "879       0.142857     0.050505      0.040334      0.332406      0.186370   \n",
       "32460     0.142857     0.030303      0.026426      0.068150      0.047288   \n",
       "\n",
       "        min_age  complexity_rating  user_ratings  user_comments   type  \\\n",
       "24512  0.214286              0.000      0.000000        0.00000  0.250   \n",
       "8773   0.142857              0.000      0.007619        0.01125  0.375   \n",
       "20233  0.392857              0.000      0.000238        0.00100  0.250   \n",
       "879    0.357143              0.615      0.190438        0.40000  0.500   \n",
       "32460  0.285714              0.000      0.000095        0.00025  0.250   \n",
       "\n",
       "       category  mechanism  average_rating  \n",
       "24512  0.535714   0.038043              20  \n",
       "8773   0.214286   0.119565              57  \n",
       "20233  0.226190   0.086957              67  \n",
       "879    0.273810   0.342391              70  \n",
       "32460  0.011905   0.097826              82  "
      ]
     },
     "execution_count": 7,
     "metadata": {},
     "output_type": "execute_result"
    }
   ],
   "source": [
    "df = df.sample(frac=1, replace = False)\n",
    "df.head(5)"
   ]
  },
  {
   "cell_type": "code",
   "execution_count": 8,
   "metadata": {},
   "outputs": [
    {
     "name": "stdout",
     "output_type": "stream",
     "text": [
      "Train shape: (33542, 13)\n",
      " Test shape: (8385, 13)\n"
     ]
    }
   ],
   "source": [
    "train_sample, test_sample = df.iloc[:round(df.shape[0] * 0.8)][:], df.iloc[round(df.shape[0] * 0.8):][:]\n",
    "print(\n",
    "    f\"Train shape: {train_sample.shape}\\n\",\n",
    "    f\"Test shape: {test_sample.shape}\"\n",
    ")"
   ]
  },
  {
   "cell_type": "markdown",
   "metadata": {},
   "source": [
    "<a id=\"1.2\"></a>\n",
    "<h2 style=\" font-family: Arial; font-size: 20px; font-style: normal; font-weight: normal; text-decoration: none; text-transform: none; letter-spacing: 2px; color: #008B8B; padding: 15px; border-top: 2px solid blue; border-bottom: 2px solid blue;\n",
    "\"><b>Training </b> model"
   ]
  },
  {
   "cell_type": "markdown",
   "metadata": {},
   "source": [
    "### Model Decision Tree"
   ]
  },
  {
   "cell_type": "code",
   "execution_count": 9,
   "metadata": {},
   "outputs": [],
   "source": [
    "def getTrainValSample(data, fold):\n",
    "    beginPos = round(data.shape[0] * fold / 10)\n",
    "    length = round(data.shape[0] * 1 / 10)\n",
    "\n",
    "    train = pd.concat([data.iloc[0 : beginPos][:], data.iloc[beginPos + length:][:]]).to_numpy()\n",
    "    val = data.iloc[beginPos: beginPos + length][:].to_numpy()\n",
    "\n",
    "    x_train, y_train = train[:, :-1], train[:, -1]\n",
    "    x_val, y_val = val[:, :-1], val[:, -1]\n",
    "    return (x_train, y_train), (x_val, y_val)"
   ]
  },
  {
   "cell_type": "code",
   "execution_count": 10,
   "metadata": {},
   "outputs": [],
   "source": [
    "train_errors_decision_tree = []\n",
    "val_errors_decision_tree = []\n",
    "for i in range(10):\n",
    "    train, val = getTrainValSample(train_sample, i)\n",
    "    model = DecisionTreeClassifier(criterion=\"gini\")\n",
    "    model.fit(train[0], train[1])\n",
    "    train_errors_decision_tree.append(model.score(train[0], train[1]))\n",
    "    val_errors_decision_tree.append(model.score(val[0], val[1]))\n",
    "    \n",
    "decisionModel = pd.DataFrame({'Train Accuracy': train_errors_decision_tree,\n",
    "                 'Validation Accuracy': val_errors_decision_tree\n",
    "                 })"
   ]
  },
  {
   "cell_type": "code",
   "execution_count": 11,
   "metadata": {},
   "outputs": [
    {
     "data": {
      "image/png": "[encoded data removed]",
      "text/plain": [
       "<Figure size 800x500 with 1 Axes>"
      ]
     },
     "metadata": {},
     "output_type": "display_data"
    }
   ],
   "source": [
    "fig, ax = plt.subplots(figsize=(8, 5))\n",
    "decision_tree_train_line, = ax.plot(decisionModel['Train Accuracy'])\n",
    "decision_tree_val_line, = ax.plot(decisionModel['Validation Accuracy'])\n",
    "ax.set_title(\"Decision Tree Model\")\n",
    "ax.set_xlabel(\"Fold\")\n",
    "ax.set_ylabel(\"Accuracy\")\n",
    "ax.set_yticks(np.linspace(0.9, 1, num=5))\n",
    "ax.legend([decision_tree_train_line, decision_tree_val_line], decisionModel.columns, loc = \"lower right\")\n",
    "plt.show()"
   ]
  },
  {
   "cell_type": "markdown",
   "metadata": {},
   "source": [
    "### Model Native-Bayes"
   ]
  },
  {
   "cell_type": "code",
   "execution_count": 12,
   "metadata": {},
   "outputs": [],
   "source": [
    "train_errors_bayes = []\n",
    "val_errors_bayes = []\n",
    "for i in range(10):\n",
    "    train, val = getTrainValSample(train_sample, i)\n",
    "    model = GaussianNB()\n",
    "    model.fit(train[0], train[1])\n",
    "    train_errors_bayes.append(model.score(train[0], train[1]))\n",
    "    val_errors_bayes.append(model.score(val[0], val[1]))\n",
    "    \n",
    "BayesModel = pd.DataFrame({'Train Accuracy': train_errors_bayes,\n",
    "                 'Validation Accuracy': val_errors_bayes\n",
    "                 })"
   ]
  },
  {
   "cell_type": "code",
   "execution_count": 13,
   "metadata": {},
   "outputs": [
    {
     "data": {
      "image/png": "[encoded data removed]",
      "text/plain": [
       "<Figure size 800x500 with 1 Axes>"
      ]
     },
     "metadata": {},
     "output_type": "display_data"
    }
   ],
   "source": [
    "fig, ax = plt.subplots(figsize=(8, 5))\n",
    "bayes_train_line, = ax.plot(BayesModel['Train Accuracy'])\n",
    "bayes_val_line, = ax.plot(BayesModel['Validation Accuracy'])\n",
    "ax.set_title(\"Bayes Model\")\n",
    "ax.set_xlabel(\"Fold\")\n",
    "ax.set_ylabel(\"Accuracy\")\n",
    "ax.legend([bayes_train_line, bayes_val_line], BayesModel.columns, loc = \"lower right\")\n",
    "plt.show()"
   ]
  },
  {
   "cell_type": "markdown",
   "metadata": {},
   "source": [
    "### Model FC with:\n",
    "- First hidden layer: 1024 node, use 'relu' activation\n",
    "- Second hidden layer: 512 node, use 'relu' activation\n",
    "- Output layer: 101 node, use 'softmax' activation"
   ]
  },
  {
   "cell_type": "code",
   "execution_count": 14,
   "metadata": {},
   "outputs": [
    {
     "name": "stdout",
     "output_type": "stream",
     "text": [
      "Epoch 1/5\n",
      "944/944 [==============================] - 11s 11ms/step - loss: 4.2863 - sparse_top_k_categorical_accuracy: 0.2076 - val_loss: 3.9425 - val_sparse_top_k_categorical_accuracy: 0.2016\n",
      "Epoch 2/5\n",
      "944/944 [==============================] - 12s 12ms/step - loss: 3.8954 - sparse_top_k_categorical_accuracy: 0.2104 - val_loss: 3.8812 - val_sparse_top_k_categorical_accuracy: 0.2078\n",
      "Epoch 3/5\n",
      "944/944 [==============================] - 13s 14ms/step - loss: 3.8685 - sparse_top_k_categorical_accuracy: 0.2148 - val_loss: 3.8656 - val_sparse_top_k_categorical_accuracy: 0.2177\n",
      "Epoch 4/5\n",
      "944/944 [==============================] - 13s 13ms/step - loss: 3.8508 - sparse_top_k_categorical_accuracy: 0.2207 - val_loss: 3.8456 - val_sparse_top_k_categorical_accuracy: 0.2179\n",
      "Epoch 5/5\n",
      "944/944 [==============================] - 12s 13ms/step - loss: 3.8281 - sparse_top_k_categorical_accuracy: 0.2316 - val_loss: 3.8258 - val_sparse_top_k_categorical_accuracy: 0.2338\n",
      "Epoch 1/5\n",
      "944/944 [==============================] - 12s 12ms/step - loss: 4.2862 - sparse_top_k_categorical_accuracy: 0.2041 - val_loss: 3.9275 - val_sparse_top_k_categorical_accuracy: 0.2087\n",
      "Epoch 2/5\n",
      "944/944 [==============================] - 12s 12ms/step - loss: 3.8994 - sparse_top_k_categorical_accuracy: 0.2100 - val_loss: 3.8757 - val_sparse_top_k_categorical_accuracy: 0.2120\n",
      "Epoch 3/5\n",
      "944/944 [==============================] - 10s 11ms/step - loss: 3.8739 - sparse_top_k_categorical_accuracy: 0.2150 - val_loss: 3.8538 - val_sparse_top_k_categorical_accuracy: 0.2141\n",
      "Epoch 4/5\n",
      "944/944 [==============================] - 15s 16ms/step - loss: 3.8587 - sparse_top_k_categorical_accuracy: 0.2175 - val_loss: 3.8379 - val_sparse_top_k_categorical_accuracy: 0.2284\n",
      "Epoch 5/5\n",
      "944/944 [==============================] - 15s 16ms/step - loss: 3.8399 - sparse_top_k_categorical_accuracy: 0.2295 - val_loss: 3.8184 - val_sparse_top_k_categorical_accuracy: 0.2242\n",
      "Epoch 1/5\n",
      "944/944 [==============================] - 15s 15ms/step - loss: 4.2889 - sparse_top_k_categorical_accuracy: 0.2004 - val_loss: 3.9510 - val_sparse_top_k_categorical_accuracy: 0.2042\n",
      "Epoch 2/5\n",
      "944/944 [==============================] - 12s 13ms/step - loss: 3.8957 - sparse_top_k_categorical_accuracy: 0.2115 - val_loss: 3.8835 - val_sparse_top_k_categorical_accuracy: 0.2141\n",
      "Epoch 3/5\n",
      "944/944 [==============================] - 14s 15ms/step - loss: 3.8701 - sparse_top_k_categorical_accuracy: 0.2159 - val_loss: 3.8660 - val_sparse_top_k_categorical_accuracy: 0.2120\n",
      "Epoch 4/5\n",
      "944/944 [==============================] - 15s 16ms/step - loss: 3.8550 - sparse_top_k_categorical_accuracy: 0.2204 - val_loss: 3.8506 - val_sparse_top_k_categorical_accuracy: 0.2191\n",
      "Epoch 5/5\n",
      "944/944 [==============================] - 13s 14ms/step - loss: 3.8360 - sparse_top_k_categorical_accuracy: 0.2267 - val_loss: 3.8270 - val_sparse_top_k_categorical_accuracy: 0.2278\n",
      "Epoch 1/5\n",
      "944/944 [==============================] - 17s 17ms/step - loss: 4.2774 - sparse_top_k_categorical_accuracy: 0.2002 - val_loss: 3.9498 - val_sparse_top_k_categorical_accuracy: 0.2057\n",
      "Epoch 2/5\n",
      "944/944 [==============================] - 19s 20ms/step - loss: 3.8901 - sparse_top_k_categorical_accuracy: 0.2113 - val_loss: 3.9002 - val_sparse_top_k_categorical_accuracy: 0.2084\n",
      "Epoch 3/5\n",
      "944/944 [==============================] - 16s 17ms/step - loss: 3.8625 - sparse_top_k_categorical_accuracy: 0.2173 - val_loss: 3.8858 - val_sparse_top_k_categorical_accuracy: 0.2221\n",
      "Epoch 4/5\n",
      "944/944 [==============================] - 17s 19ms/step - loss: 3.8421 - sparse_top_k_categorical_accuracy: 0.2253 - val_loss: 3.8640 - val_sparse_top_k_categorical_accuracy: 0.2293\n",
      "Epoch 5/5\n",
      "944/944 [==============================] - 14s 15ms/step - loss: 3.8158 - sparse_top_k_categorical_accuracy: 0.2353 - val_loss: 3.8347 - val_sparse_top_k_categorical_accuracy: 0.2415\n",
      "Epoch 1/5\n",
      "944/944 [==============================] - 12s 12ms/step - loss: 4.2733 - sparse_top_k_categorical_accuracy: 0.2022 - val_loss: 3.9170 - val_sparse_top_k_categorical_accuracy: 0.2072\n",
      "Epoch 2/5\n",
      "944/944 [==============================] - 10s 11ms/step - loss: 3.8937 - sparse_top_k_categorical_accuracy: 0.2126 - val_loss: 3.8695 - val_sparse_top_k_categorical_accuracy: 0.2013\n",
      "Epoch 3/5\n",
      "944/944 [==============================] - 11s 11ms/step - loss: 3.8679 - sparse_top_k_categorical_accuracy: 0.2156 - val_loss: 3.8487 - val_sparse_top_k_categorical_accuracy: 0.2111\n",
      "Epoch 4/5\n",
      "944/944 [==============================] - 11s 11ms/step - loss: 3.8500 - sparse_top_k_categorical_accuracy: 0.2237 - val_loss: 3.8334 - val_sparse_top_k_categorical_accuracy: 0.2317\n",
      "Epoch 5/5\n",
      "944/944 [==============================] - 10s 11ms/step - loss: 3.8284 - sparse_top_k_categorical_accuracy: 0.2308 - val_loss: 3.8085 - val_sparse_top_k_categorical_accuracy: 0.2215\n",
      "Epoch 1/5\n",
      "944/944 [==============================] - 11s 11ms/step - loss: 4.2922 - sparse_top_k_categorical_accuracy: 0.2049 - val_loss: 3.9315 - val_sparse_top_k_categorical_accuracy: 0.2174\n",
      "Epoch 2/5\n",
      "944/944 [==============================] - 10s 11ms/step - loss: 3.8968 - sparse_top_k_categorical_accuracy: 0.2112 - val_loss: 3.8725 - val_sparse_top_k_categorical_accuracy: 0.2171\n",
      "Epoch 3/5\n",
      "944/944 [==============================] - 10s 11ms/step - loss: 3.8709 - sparse_top_k_categorical_accuracy: 0.2138 - val_loss: 3.8554 - val_sparse_top_k_categorical_accuracy: 0.2179\n",
      "Epoch 4/5\n",
      "944/944 [==============================] - 11s 11ms/step - loss: 3.8572 - sparse_top_k_categorical_accuracy: 0.2186 - val_loss: 3.8414 - val_sparse_top_k_categorical_accuracy: 0.2329\n",
      "Epoch 5/5\n",
      "944/944 [==============================] - 11s 11ms/step - loss: 3.8381 - sparse_top_k_categorical_accuracy: 0.2248 - val_loss: 3.8201 - val_sparse_top_k_categorical_accuracy: 0.2352\n",
      "Epoch 1/5\n",
      "944/944 [==============================] - 11s 11ms/step - loss: 4.3015 - sparse_top_k_categorical_accuracy: 0.2002 - val_loss: 3.9275 - val_sparse_top_k_categorical_accuracy: 0.2126\n",
      "Epoch 2/5\n",
      "944/944 [==============================] - 16s 17ms/step - loss: 3.8986 - sparse_top_k_categorical_accuracy: 0.2125 - val_loss: 3.8606 - val_sparse_top_k_categorical_accuracy: 0.2221\n",
      "Epoch 3/5\n",
      "944/944 [==============================] - 18s 19ms/step - loss: 3.8704 - sparse_top_k_categorical_accuracy: 0.2140 - val_loss: 3.8453 - val_sparse_top_k_categorical_accuracy: 0.2320\n",
      "Epoch 4/5\n",
      "944/944 [==============================] - 16s 17ms/step - loss: 3.8536 - sparse_top_k_categorical_accuracy: 0.2215 - val_loss: 3.8247 - val_sparse_top_k_categorical_accuracy: 0.2394\n",
      "Epoch 5/5\n",
      "944/944 [==============================] - 16s 17ms/step - loss: 3.8315 - sparse_top_k_categorical_accuracy: 0.2298 - val_loss: 3.8018 - val_sparse_top_k_categorical_accuracy: 0.2382\n",
      "Epoch 1/5\n",
      "944/944 [==============================] - 16s 16ms/step - loss: 4.2857 - sparse_top_k_categorical_accuracy: 0.2013 - val_loss: 3.9294 - val_sparse_top_k_categorical_accuracy: 0.2185\n",
      "Epoch 2/5\n",
      "944/944 [==============================] - 16s 17ms/step - loss: 3.8971 - sparse_top_k_categorical_accuracy: 0.2093 - val_loss: 3.8726 - val_sparse_top_k_categorical_accuracy: 0.2206\n",
      "Epoch 3/5\n",
      "944/944 [==============================] - 11s 12ms/step - loss: 3.8705 - sparse_top_k_categorical_accuracy: 0.2115 - val_loss: 3.8549 - val_sparse_top_k_categorical_accuracy: 0.2156\n",
      "Epoch 4/5\n",
      "944/944 [==============================] - 16s 17ms/step - loss: 3.8546 - sparse_top_k_categorical_accuracy: 0.2176 - val_loss: 3.8417 - val_sparse_top_k_categorical_accuracy: 0.2242\n",
      "Epoch 5/5\n",
      "944/944 [==============================] - 16s 17ms/step - loss: 3.8343 - sparse_top_k_categorical_accuracy: 0.2278 - val_loss: 3.8147 - val_sparse_top_k_categorical_accuracy: 0.2242\n",
      "Epoch 1/5\n",
      "944/944 [==============================] - 17s 17ms/step - loss: 4.3058 - sparse_top_k_categorical_accuracy: 0.2003 - val_loss: 3.9711 - val_sparse_top_k_categorical_accuracy: 0.2045\n",
      "Epoch 2/5\n",
      "944/944 [==============================] - 16s 17ms/step - loss: 3.8984 - sparse_top_k_categorical_accuracy: 0.2116 - val_loss: 3.8947 - val_sparse_top_k_categorical_accuracy: 0.2078\n",
      "Epoch 3/5\n",
      "944/944 [==============================] - 16s 17ms/step - loss: 3.8665 - sparse_top_k_categorical_accuracy: 0.2153 - val_loss: 3.8821 - val_sparse_top_k_categorical_accuracy: 0.2007\n",
      "Epoch 4/5\n",
      "944/944 [==============================] - 15s 16ms/step - loss: 3.8491 - sparse_top_k_categorical_accuracy: 0.2202 - val_loss: 3.8592 - val_sparse_top_k_categorical_accuracy: 0.2165\n",
      "Epoch 5/5\n",
      "944/944 [==============================] - 11s 11ms/step - loss: 3.8262 - sparse_top_k_categorical_accuracy: 0.2295 - val_loss: 3.8392 - val_sparse_top_k_categorical_accuracy: 0.2251\n",
      "Epoch 1/5\n",
      "944/944 [==============================] - 14s 15ms/step - loss: 4.2759 - sparse_top_k_categorical_accuracy: 0.2016 - val_loss: 3.9410 - val_sparse_top_k_categorical_accuracy: 0.2153\n",
      "Epoch 2/5\n",
      "944/944 [==============================] - 15s 16ms/step - loss: 3.8955 - sparse_top_k_categorical_accuracy: 0.2096 - val_loss: 3.8825 - val_sparse_top_k_categorical_accuracy: 0.2054\n",
      "Epoch 3/5\n",
      "944/944 [==============================] - 17s 18ms/step - loss: 3.8676 - sparse_top_k_categorical_accuracy: 0.2150 - val_loss: 3.8651 - val_sparse_top_k_categorical_accuracy: 0.2126\n",
      "Epoch 4/5\n",
      "944/944 [==============================] - 16s 17ms/step - loss: 3.8508 - sparse_top_k_categorical_accuracy: 0.2215 - val_loss: 3.8478 - val_sparse_top_k_categorical_accuracy: 0.2293\n",
      "Epoch 5/5\n",
      "944/944 [==============================] - 12s 12ms/step - loss: 3.8286 - sparse_top_k_categorical_accuracy: 0.2294 - val_loss: 3.8231 - val_sparse_top_k_categorical_accuracy: 0.2493\n"
     ]
    }
   ],
   "source": [
    "train_errors_FC = []\n",
    "val_errors_FC = []\n",
    "for i in range(10):\n",
    "    train, val = getTrainValSample(train_sample, i)\n",
    "    x_train = tf.convert_to_tensor(train[0], dtype='float32')\n",
    "    y_train = tf.convert_to_tensor(train[1])\n",
    "    x_val = tf.convert_to_tensor(val[0], dtype='float32')\n",
    "    y_val = tf.convert_to_tensor(val[1])\n",
    "\n",
    "    model = keras.Sequential(\n",
    "            [\n",
    "                keras.Input(shape=(12, ), name = \"Input\"),\n",
    "                keras.layers.Dense(512, activation='relu'),\n",
    "                keras.layers.Dense(1024, activation='relu'),\n",
    "                keras.layers.Dense(512, activation='relu'),\n",
    "                keras.layers.Dense(101, activation='softmax', name = 'output'),\n",
    "            ]\n",
    "        )\n",
    "    model.compile(\n",
    "            optimizer=keras.optimizers.SGD(),\n",
    "            loss=keras.losses.SparseCategoricalCrossentropy(),\n",
    "            metrics=[keras.metrics.SparseTopKCategoricalAccuracy()]\n",
    "        )\n",
    "    history = model.fit(x_train, \n",
    "                                y_train,\n",
    "                                batch_size=32,\n",
    "                                epochs=5,\n",
    "                                validation_data=(x_val, y_val),\n",
    "                            )\n",
    "    \n",
    "    train_errors_FC.append(history.history['val_sparse_top_k_categorical_accuracy'][-1])\n",
    "    val_errors_FC.append(history.history['sparse_top_k_categorical_accuracy'][-1])\n",
    "    \n",
    "FCModel = pd.DataFrame({'Train Accuracy': train_errors_FC,\n",
    "                 'Validation Accuracy': val_errors_FC\n",
    "                 })"
   ]
  },
  {
   "cell_type": "code",
   "execution_count": 15,
   "metadata": {},
   "outputs": [
    {
     "data": {
      "image/png": "[encoded data removed]",
      "text/plain": [
       "<Figure size 800x500 with 1 Axes>"
      ]
     },
     "metadata": {},
     "output_type": "display_data"
    }
   ],
   "source": [
    "fig, ax = plt.subplots(figsize=(8, 5))\n",
    "FC_model_train_line, = ax.plot(FCModel['Train Accuracy'])\n",
    "FC_model_val_line, = ax.plot(FCModel['Validation Accuracy'])\n",
    "ax.set_title(\"FC Model\")\n",
    "ax.set_xlabel(\"Fold\")\n",
    "ax.set_ylabel(\"Accuracy\")\n",
    "ax.legend([FC_model_train_line, FC_model_val_line], FCModel.columns, loc = \"lower right\")\n",
    "plt.show()"
   ]
  },
  {
   "cell_type": "code",
   "execution_count": 23,
   "metadata": {},
   "outputs": [
    {
     "data": {
      "image/png": "[encoded data removed]",
      "text/plain": [
       "<Figure size 800x500 with 1 Axes>"
      ]
     },
     "metadata": {},
     "output_type": "display_data"
    }
   ],
   "source": [
    "compare_model = {\n",
    "    'Decision Tree': decisionModel['Validation Accuracy'].mean(),\n",
    "    'Native-Bayes': BayesModel['Validation Accuracy'].mean(),\n",
    "    'FC Model': FCModel['Validation Accuracy'].mean()\n",
    "}\n",
    "fig, ax = plt.subplots(figsize=(8, 5))\n",
    "ax.set_title(\"Visualize average accuracy model\")\n",
    "ax.set_ylabel(\"Model\")\n",
    "ax.set_xlabel(\"Average validation accuracy\")\n",
    "ax.bar(compare_model.keys(), compare_model.values())\n",
    "plt.show()"
   ]
  },
  {
   "cell_type": "markdown",
   "metadata": {},
   "source": [
    "## Comment\n",
    "As we see, 3 model will train are compared using k-fold cross validation and model Decision tree give a highest accurancy. So, we will use Decision Tree model to solve our problem"
   ]
  },
  {
   "cell_type": "code",
   "execution_count": 26,
   "metadata": {},
   "outputs": [
    {
     "name": "stdout",
     "output_type": "stream",
     "text": [
      "x_train shape: (33542, 12)\n",
      "y_train shape: (33542, 1)\n"
     ]
    }
   ],
   "source": [
    "x_train, y_train = train_sample.iloc[:, :-1], train_sample.iloc[:, -1:]\n",
    "x_test, y_test = test_sample.iloc[:, :-1], test_sample.iloc[:, -1:]\n",
    "print(f\"x_train shape: {x_train.shape}\\n\"\n",
    "      f\"y_train shape: {y_train.shape}\"\n",
    "      )"
   ]
  },
  {
   "cell_type": "code",
   "execution_count": 28,
   "metadata": {},
   "outputs": [
    {
     "data": {
      "text/plain": [
       "44"
      ]
     },
     "execution_count": 28,
     "metadata": {},
     "output_type": "execute_result"
    }
   ],
   "source": [
    "model = DecisionTreeClassifier(criterion='gini')\n",
    "model.fit(x_train, y_train)\n",
    "model.get_depth()"
   ]
  },
  {
   "cell_type": "markdown",
   "metadata": {},
   "source": [
    "<a id=\"1.2\"></a>\n",
    "<h2 style=\" font-family: Arial; font-size: 20px; font-style: normal; font-weight: normal; text-decoration: none; text-transform: none; letter-spacing: 2px; color: #008B8B; padding: 15px; border-top: 2px solid blue; border-bottom: 2px solid blue;\n",
    "\"><b>Evaluation </b>"
   ]
  },
  {
   "cell_type": "code",
   "execution_count": 31,
   "metadata": {},
   "outputs": [
    {
     "name": "stdout",
     "output_type": "stream",
     "text": [
      "accuracy Score: 0.9904299087710929\n"
     ]
    }
   ],
   "source": [
    "y_train_pred = model.predict(x_train)\n",
    "accuracy = accuracy_score(y_train, y_train_pred)\n",
    "print(f\"accuracy Score: {accuracy}\")"
   ]
  },
  {
   "cell_type": "markdown",
   "metadata": {},
   "source": [
    "<a id=\"1.2\"></a>\n",
    "<h2 style=\" font-family: Arial; font-size: 20px; font-style: normal; font-weight: normal; text-decoration: none; text-transform: none; letter-spacing: 2px; color: #008B8B; padding: 15px; border-top: 2px solid blue; border-bottom: 2px solid blue;\n",
    "\"><b>Prediction </b>"
   ]
  },
  {
   "cell_type": "code",
   "execution_count": 33,
   "metadata": {},
   "outputs": [
    {
     "name": "stdout",
     "output_type": "stream",
     "text": [
      "accuracy test: 0.9359570661896244\n"
     ]
    }
   ],
   "source": [
    "y_pred = model.predict(x_test)\n",
    "accuracy_predict = accuracy_score(y_test, y_pred)\n",
    "print(f\"accuracy test: {accuracy_predict}\")"
   ]
  },
  {
   "cell_type": "markdown",
   "metadata": {},
   "source": [
    "<a id=\"1.2\"></a>\n",
    "<h2 style=\" font-family: Arial; font-size: 20px; font-style: normal; font-weight: normal; text-decoration: none; text-transform: none; letter-spacing: 2px; color: #008B8B; padding: 15px; border-top: 2px solid blue; border-bottom: 2px solid blue;\n",
    "\"><b>Results </b> analysis"
   ]
  },
  {
   "cell_type": "code",
   "execution_count": null,
   "metadata": {},
   "outputs": [],
   "source": []
  },
  {
   "cell_type": "markdown",
   "metadata": {},
   "source": [
    "<a id=\"1.2\"></a>\n",
    "<h2 style=\" font-family: Arial; font-size: 20px; font-style: normal; font-weight: normal; text-decoration: none; text-transform: none; letter-spacing: 2px; color: #008B8B; padding: 15px; border-top: 2px solid blue; border-bottom: 2px solid blue;\n",
    "\"><b>Conclusion </b> "
   ]
  },
  {
   "cell_type": "markdown",
   "metadata": {},
   "source": []
  }
 ],
 "metadata": {
  "kernelspec": {
   "display_name": "Python 3",
   "language": "python",
   "name": "python3"
  },
  "language_info": {
   "codemirror_mode": {
    "name": "ipython",
    "version": 3
   },
   "file_extension": ".py",
   "mimetype": "text/x-python",
   "name": "python",
   "nbconvert_exporter": "python",
   "pygments_lexer": "ipython3",
   "version": "3.11.1"
  }
 },
 "nbformat": 4,
 "nbformat_minor": 2
}
