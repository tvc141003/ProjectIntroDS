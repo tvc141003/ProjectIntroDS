{
 "cells": [
  {
   "cell_type": "markdown",
   "metadata": {},
   "source": [
    "<a id=\"1\"></a>\n",
    "# <div style=\"padding: 20px; color: cyan; margin: 0; font-size: 30px; font-family: Arial; text-align: left; border-radius: 5px; background-color: #000000; border: 2px solid blue;\"><b>Machine Learning Model</b></div>"
   ]
  },
  {
   "cell_type": "code",
   "execution_count": 1,
   "metadata": {},
   "outputs": [],
   "source": [
    "import pandas as pd\n",
    "import numpy as np\n",
    "import sklearn\n",
    "from sklearn.tree import DecisionTreeClassifier\n",
    "from sklearn.naive_bayes import GaussianNB\n",
    "from sklearn.metrics import accuracy_score\n",
    "import matplotlib.pyplot as plt\n",
    "import tensorflow as tf\n",
    "import sklearn.preprocessing\n",
    "from tensorflow import keras"
   ]
  },
  {
   "cell_type": "markdown",
   "metadata": {},
   "source": [
    "<a id=\"1.2\"></a>\n",
    "<h2 style=\" font-family: Arial; font-size: 20px; font-style: normal; font-weight: normal; text-decoration: none; text-transform: none; letter-spacing: 2px; color: #008B8B; padding: 15px; border-top: 2px solid blue; border-bottom: 2px solid blue;\n",
    "\"><b>Data </b> Preparation"
   ]
  },
  {
   "cell_type": "code",
   "execution_count": 2,
   "metadata": {},
   "outputs": [
    {
     "data": {
      "text/html": [
       "<div>\n",
       "<style scoped>\n",
       "    .dataframe tbody tr th:only-of-type {\n",
       "        vertical-align: middle;\n",
       "    }\n",
       "\n",
       "    .dataframe tbody tr th {\n",
       "        vertical-align: top;\n",
       "    }\n",
       "\n",
       "    .dataframe thead th {\n",
       "        text-align: right;\n",
       "    }\n",
       "</style>\n",
       "<table border=\"1\" class=\"dataframe\">\n",
       "  <thead>\n",
       "    <tr style=\"text-align: right;\">\n",
       "      <th></th>\n",
       "      <th>min_players</th>\n",
       "      <th>max_players</th>\n",
       "      <th>min_playtime</th>\n",
       "      <th>max_playtime</th>\n",
       "      <th>playing_time</th>\n",
       "      <th>min_age</th>\n",
       "      <th>complexity_rating</th>\n",
       "      <th>user_ratings</th>\n",
       "      <th>user_comments</th>\n",
       "      <th>type</th>\n",
       "      <th>category</th>\n",
       "      <th>mechanism</th>\n",
       "      <th>average_rating</th>\n",
       "    </tr>\n",
       "  </thead>\n",
       "  <tbody>\n",
       "    <tr>\n",
       "      <th>0</th>\n",
       "      <td>2</td>\n",
       "      <td>4</td>\n",
       "      <td>30</td>\n",
       "      <td>60</td>\n",
       "      <td>45</td>\n",
       "      <td>10</td>\n",
       "      <td>2.47</td>\n",
       "      <td>16000</td>\n",
       "      <td>4000</td>\n",
       "      <td>Strategy</td>\n",
       "      <td>Abstract Strategy</td>\n",
       "      <td>Area Majority / Influence</td>\n",
       "      <td>7.5</td>\n",
       "    </tr>\n",
       "    <tr>\n",
       "      <th>1</th>\n",
       "      <td>2</td>\n",
       "      <td>4</td>\n",
       "      <td>30</td>\n",
       "      <td>60</td>\n",
       "      <td>45</td>\n",
       "      <td>10</td>\n",
       "      <td>2.47</td>\n",
       "      <td>16000</td>\n",
       "      <td>4000</td>\n",
       "      <td>Strategy</td>\n",
       "      <td>Abstract Strategy</td>\n",
       "      <td>Hand Management</td>\n",
       "      <td>7.5</td>\n",
       "    </tr>\n",
       "    <tr>\n",
       "      <th>2</th>\n",
       "      <td>2</td>\n",
       "      <td>4</td>\n",
       "      <td>30</td>\n",
       "      <td>60</td>\n",
       "      <td>45</td>\n",
       "      <td>10</td>\n",
       "      <td>2.47</td>\n",
       "      <td>16000</td>\n",
       "      <td>4000</td>\n",
       "      <td>Strategy</td>\n",
       "      <td>Abstract Strategy</td>\n",
       "      <td>Hexagon Grid</td>\n",
       "      <td>7.5</td>\n",
       "    </tr>\n",
       "    <tr>\n",
       "      <th>3</th>\n",
       "      <td>2</td>\n",
       "      <td>4</td>\n",
       "      <td>30</td>\n",
       "      <td>60</td>\n",
       "      <td>45</td>\n",
       "      <td>10</td>\n",
       "      <td>2.47</td>\n",
       "      <td>16000</td>\n",
       "      <td>4000</td>\n",
       "      <td>Strategy</td>\n",
       "      <td>Abstract Strategy</td>\n",
       "      <td>Once-Per-Game Abilities</td>\n",
       "      <td>7.5</td>\n",
       "    </tr>\n",
       "    <tr>\n",
       "      <th>4</th>\n",
       "      <td>2</td>\n",
       "      <td>4</td>\n",
       "      <td>30</td>\n",
       "      <td>60</td>\n",
       "      <td>45</td>\n",
       "      <td>10</td>\n",
       "      <td>2.47</td>\n",
       "      <td>16000</td>\n",
       "      <td>4000</td>\n",
       "      <td>Strategy</td>\n",
       "      <td>Abstract Strategy</td>\n",
       "      <td>Set Collection</td>\n",
       "      <td>7.5</td>\n",
       "    </tr>\n",
       "  </tbody>\n",
       "</table>\n",
       "</div>"
      ],
      "text/plain": [
       "   min_players  max_players  min_playtime  max_playtime  playing_time  \\\n",
       "0            2            4            30            60            45   \n",
       "1            2            4            30            60            45   \n",
       "2            2            4            30            60            45   \n",
       "3            2            4            30            60            45   \n",
       "4            2            4            30            60            45   \n",
       "\n",
       "   min_age  complexity_rating  user_ratings  user_comments      type  \\\n",
       "0       10               2.47         16000           4000  Strategy   \n",
       "1       10               2.47         16000           4000  Strategy   \n",
       "2       10               2.47         16000           4000  Strategy   \n",
       "3       10               2.47         16000           4000  Strategy   \n",
       "4       10               2.47         16000           4000  Strategy   \n",
       "\n",
       "            category                  mechanism  average_rating  \n",
       "0  Abstract Strategy  Area Majority / Influence             7.5  \n",
       "1  Abstract Strategy            Hand Management             7.5  \n",
       "2  Abstract Strategy               Hexagon Grid             7.5  \n",
       "3  Abstract Strategy    Once-Per-Game Abilities             7.5  \n",
       "4  Abstract Strategy             Set Collection             7.5  "
      ]
     },
     "execution_count": 2,
     "metadata": {},
     "output_type": "execute_result"
    }
   ],
   "source": [
    "df = pd.read_csv(\"../data/processed/processed_data.csv\")\n",
    "df.head(5)"
   ]
  },
  {
   "cell_type": "code",
   "execution_count": 3,
   "metadata": {},
   "outputs": [
    {
     "name": "stdout",
     "output_type": "stream",
     "text": [
      "<class 'pandas.core.frame.DataFrame'>\n",
      "RangeIndex: 41927 entries, 0 to 41926\n",
      "Data columns (total 13 columns):\n",
      " #   Column             Non-Null Count  Dtype  \n",
      "---  ------             --------------  -----  \n",
      " 0   min_players        41927 non-null  int64  \n",
      " 1   max_players        41927 non-null  int64  \n",
      " 2   min_playtime       41927 non-null  int64  \n",
      " 3   max_playtime       41927 non-null  int64  \n",
      " 4   playing_time       41927 non-null  int64  \n",
      " 5   min_age            41927 non-null  int64  \n",
      " 6   complexity_rating  41927 non-null  float64\n",
      " 7   user_ratings       41927 non-null  int64  \n",
      " 8   user_comments      41927 non-null  int64  \n",
      " 9   type               41927 non-null  object \n",
      " 10  category           41927 non-null  object \n",
      " 11  mechanism          41927 non-null  object \n",
      " 12  average_rating     41927 non-null  float64\n",
      "dtypes: float64(2), int64(8), object(3)\n",
      "memory usage: 4.2+ MB\n"
     ]
    }
   ],
   "source": [
    "df.info()"
   ]
  },
  {
   "cell_type": "markdown",
   "metadata": {},
   "source": [
    "<a id=\"1.2\"></a>\n",
    "<h2 style=\" font-family: Arial; font-size: 20px; font-style: normal; font-weight: normal; text-decoration: none; text-transform: none; letter-spacing: 2px; color: #008B8B; padding: 15px; border-top: 2px solid blue; border-bottom: 2px solid blue;\n",
    "\"><b>Feature </b> engineering"
   ]
  },
  {
   "cell_type": "code",
   "execution_count": 4,
   "metadata": {},
   "outputs": [],
   "source": [
    "def convertCategoryToIndex(value, category):\n",
    "    return category.index(value)"
   ]
  },
  {
   "cell_type": "markdown",
   "metadata": {},
   "source": [
    "## Convert data to float in column type, category and mechanism"
   ]
  },
  {
   "cell_type": "code",
   "execution_count": 5,
   "metadata": {},
   "outputs": [
    {
     "data": {
      "text/html": [
       "<div>\n",
       "<style scoped>\n",
       "    .dataframe tbody tr th:only-of-type {\n",
       "        vertical-align: middle;\n",
       "    }\n",
       "\n",
       "    .dataframe tbody tr th {\n",
       "        vertical-align: top;\n",
       "    }\n",
       "\n",
       "    .dataframe thead th {\n",
       "        text-align: right;\n",
       "    }\n",
       "</style>\n",
       "<table border=\"1\" class=\"dataframe\">\n",
       "  <thead>\n",
       "    <tr style=\"text-align: right;\">\n",
       "      <th></th>\n",
       "      <th>min_players</th>\n",
       "      <th>max_players</th>\n",
       "      <th>min_playtime</th>\n",
       "      <th>max_playtime</th>\n",
       "      <th>playing_time</th>\n",
       "      <th>min_age</th>\n",
       "      <th>complexity_rating</th>\n",
       "      <th>user_ratings</th>\n",
       "      <th>user_comments</th>\n",
       "      <th>type</th>\n",
       "      <th>category</th>\n",
       "      <th>mechanism</th>\n",
       "      <th>average_rating</th>\n",
       "    </tr>\n",
       "  </thead>\n",
       "  <tbody>\n",
       "    <tr>\n",
       "      <th>0</th>\n",
       "      <td>2</td>\n",
       "      <td>4</td>\n",
       "      <td>30</td>\n",
       "      <td>60</td>\n",
       "      <td>45</td>\n",
       "      <td>10</td>\n",
       "      <td>2.47</td>\n",
       "      <td>16000</td>\n",
       "      <td>4000</td>\n",
       "      <td>0</td>\n",
       "      <td>0</td>\n",
       "      <td>0</td>\n",
       "      <td>75</td>\n",
       "    </tr>\n",
       "    <tr>\n",
       "      <th>1</th>\n",
       "      <td>2</td>\n",
       "      <td>4</td>\n",
       "      <td>30</td>\n",
       "      <td>60</td>\n",
       "      <td>45</td>\n",
       "      <td>10</td>\n",
       "      <td>2.47</td>\n",
       "      <td>16000</td>\n",
       "      <td>4000</td>\n",
       "      <td>0</td>\n",
       "      <td>0</td>\n",
       "      <td>1</td>\n",
       "      <td>75</td>\n",
       "    </tr>\n",
       "    <tr>\n",
       "      <th>2</th>\n",
       "      <td>2</td>\n",
       "      <td>4</td>\n",
       "      <td>30</td>\n",
       "      <td>60</td>\n",
       "      <td>45</td>\n",
       "      <td>10</td>\n",
       "      <td>2.47</td>\n",
       "      <td>16000</td>\n",
       "      <td>4000</td>\n",
       "      <td>0</td>\n",
       "      <td>0</td>\n",
       "      <td>2</td>\n",
       "      <td>75</td>\n",
       "    </tr>\n",
       "    <tr>\n",
       "      <th>3</th>\n",
       "      <td>2</td>\n",
       "      <td>4</td>\n",
       "      <td>30</td>\n",
       "      <td>60</td>\n",
       "      <td>45</td>\n",
       "      <td>10</td>\n",
       "      <td>2.47</td>\n",
       "      <td>16000</td>\n",
       "      <td>4000</td>\n",
       "      <td>0</td>\n",
       "      <td>0</td>\n",
       "      <td>3</td>\n",
       "      <td>75</td>\n",
       "    </tr>\n",
       "    <tr>\n",
       "      <th>4</th>\n",
       "      <td>2</td>\n",
       "      <td>4</td>\n",
       "      <td>30</td>\n",
       "      <td>60</td>\n",
       "      <td>45</td>\n",
       "      <td>10</td>\n",
       "      <td>2.47</td>\n",
       "      <td>16000</td>\n",
       "      <td>4000</td>\n",
       "      <td>0</td>\n",
       "      <td>0</td>\n",
       "      <td>4</td>\n",
       "      <td>75</td>\n",
       "    </tr>\n",
       "  </tbody>\n",
       "</table>\n",
       "</div>"
      ],
      "text/plain": [
       "   min_players  max_players  min_playtime  max_playtime  playing_time  \\\n",
       "0            2            4            30            60            45   \n",
       "1            2            4            30            60            45   \n",
       "2            2            4            30            60            45   \n",
       "3            2            4            30            60            45   \n",
       "4            2            4            30            60            45   \n",
       "\n",
       "   min_age  complexity_rating  user_ratings  user_comments  type  category  \\\n",
       "0       10               2.47         16000           4000     0         0   \n",
       "1       10               2.47         16000           4000     0         0   \n",
       "2       10               2.47         16000           4000     0         0   \n",
       "3       10               2.47         16000           4000     0         0   \n",
       "4       10               2.47         16000           4000     0         0   \n",
       "\n",
       "   mechanism  average_rating  \n",
       "0          0              75  \n",
       "1          1              75  \n",
       "2          2              75  \n",
       "3          3              75  \n",
       "4          4              75  "
      ]
     },
     "execution_count": 5,
     "metadata": {},
     "output_type": "execute_result"
    }
   ],
   "source": [
    "df['average_rating'] = df['average_rating'] * 10\n",
    "df['average_rating'] = df['average_rating'].astype('int')\n",
    "df['type'] = df['type'].apply(convertCategoryToIndex, category = list(df['type'].unique()))\n",
    "df['category'] = df['category'].apply(convertCategoryToIndex, category = list(df['category'].unique()))\n",
    "df['mechanism'] = df['mechanism'].apply(convertCategoryToIndex, category = list(df['mechanism'].unique()))\n",
    "# df = pd.get_dummies(df)\n",
    "# label = df['average_rating']\n",
    "# df.drop(columns=['average_rating'], inplace=True)\n",
    "# df.drop(columns=['type', 'category', 'mechanism'], inplace=True)\n",
    "# df = pd.concat([df, label], axis=1)\n",
    "df.head(5)"
   ]
  },
  {
   "cell_type": "markdown",
   "metadata": {},
   "source": [
    "## Min-Max scale value to 0-1"
   ]
  },
  {
   "cell_type": "code",
   "execution_count": 6,
   "metadata": {},
   "outputs": [
    {
     "data": {
      "text/html": [
       "<div>\n",
       "<style scoped>\n",
       "    .dataframe tbody tr th:only-of-type {\n",
       "        vertical-align: middle;\n",
       "    }\n",
       "\n",
       "    .dataframe tbody tr th {\n",
       "        vertical-align: top;\n",
       "    }\n",
       "\n",
       "    .dataframe thead th {\n",
       "        text-align: right;\n",
       "    }\n",
       "</style>\n",
       "<table border=\"1\" class=\"dataframe\">\n",
       "  <thead>\n",
       "    <tr style=\"text-align: right;\">\n",
       "      <th></th>\n",
       "      <th>min_players</th>\n",
       "      <th>max_players</th>\n",
       "      <th>min_playtime</th>\n",
       "      <th>max_playtime</th>\n",
       "      <th>playing_time</th>\n",
       "      <th>min_age</th>\n",
       "      <th>complexity_rating</th>\n",
       "      <th>user_ratings</th>\n",
       "      <th>user_comments</th>\n",
       "      <th>type</th>\n",
       "      <th>category</th>\n",
       "      <th>mechanism</th>\n",
       "      <th>average_rating</th>\n",
       "    </tr>\n",
       "  </thead>\n",
       "  <tbody>\n",
       "    <tr>\n",
       "      <th>0</th>\n",
       "      <td>0.142857</td>\n",
       "      <td>0.030303</td>\n",
       "      <td>0.040334</td>\n",
       "      <td>0.082058</td>\n",
       "      <td>0.061196</td>\n",
       "      <td>0.285714</td>\n",
       "      <td>0.3675</td>\n",
       "      <td>0.761893</td>\n",
       "      <td>1.0</td>\n",
       "      <td>0.0</td>\n",
       "      <td>0.0</td>\n",
       "      <td>0.000000</td>\n",
       "      <td>75</td>\n",
       "    </tr>\n",
       "    <tr>\n",
       "      <th>1</th>\n",
       "      <td>0.142857</td>\n",
       "      <td>0.030303</td>\n",
       "      <td>0.040334</td>\n",
       "      <td>0.082058</td>\n",
       "      <td>0.061196</td>\n",
       "      <td>0.285714</td>\n",
       "      <td>0.3675</td>\n",
       "      <td>0.761893</td>\n",
       "      <td>1.0</td>\n",
       "      <td>0.0</td>\n",
       "      <td>0.0</td>\n",
       "      <td>0.005435</td>\n",
       "      <td>75</td>\n",
       "    </tr>\n",
       "    <tr>\n",
       "      <th>2</th>\n",
       "      <td>0.142857</td>\n",
       "      <td>0.030303</td>\n",
       "      <td>0.040334</td>\n",
       "      <td>0.082058</td>\n",
       "      <td>0.061196</td>\n",
       "      <td>0.285714</td>\n",
       "      <td>0.3675</td>\n",
       "      <td>0.761893</td>\n",
       "      <td>1.0</td>\n",
       "      <td>0.0</td>\n",
       "      <td>0.0</td>\n",
       "      <td>0.010870</td>\n",
       "      <td>75</td>\n",
       "    </tr>\n",
       "    <tr>\n",
       "      <th>3</th>\n",
       "      <td>0.142857</td>\n",
       "      <td>0.030303</td>\n",
       "      <td>0.040334</td>\n",
       "      <td>0.082058</td>\n",
       "      <td>0.061196</td>\n",
       "      <td>0.285714</td>\n",
       "      <td>0.3675</td>\n",
       "      <td>0.761893</td>\n",
       "      <td>1.0</td>\n",
       "      <td>0.0</td>\n",
       "      <td>0.0</td>\n",
       "      <td>0.016304</td>\n",
       "      <td>75</td>\n",
       "    </tr>\n",
       "    <tr>\n",
       "      <th>4</th>\n",
       "      <td>0.142857</td>\n",
       "      <td>0.030303</td>\n",
       "      <td>0.040334</td>\n",
       "      <td>0.082058</td>\n",
       "      <td>0.061196</td>\n",
       "      <td>0.285714</td>\n",
       "      <td>0.3675</td>\n",
       "      <td>0.761893</td>\n",
       "      <td>1.0</td>\n",
       "      <td>0.0</td>\n",
       "      <td>0.0</td>\n",
       "      <td>0.021739</td>\n",
       "      <td>75</td>\n",
       "    </tr>\n",
       "  </tbody>\n",
       "</table>\n",
       "</div>"
      ],
      "text/plain": [
       "   min_players  max_players  min_playtime  max_playtime  playing_time  \\\n",
       "0     0.142857     0.030303      0.040334      0.082058      0.061196   \n",
       "1     0.142857     0.030303      0.040334      0.082058      0.061196   \n",
       "2     0.142857     0.030303      0.040334      0.082058      0.061196   \n",
       "3     0.142857     0.030303      0.040334      0.082058      0.061196   \n",
       "4     0.142857     0.030303      0.040334      0.082058      0.061196   \n",
       "\n",
       "    min_age  complexity_rating  user_ratings  user_comments  type  category  \\\n",
       "0  0.285714             0.3675      0.761893            1.0   0.0       0.0   \n",
       "1  0.285714             0.3675      0.761893            1.0   0.0       0.0   \n",
       "2  0.285714             0.3675      0.761893            1.0   0.0       0.0   \n",
       "3  0.285714             0.3675      0.761893            1.0   0.0       0.0   \n",
       "4  0.285714             0.3675      0.761893            1.0   0.0       0.0   \n",
       "\n",
       "   mechanism  average_rating  \n",
       "0   0.000000              75  \n",
       "1   0.005435              75  \n",
       "2   0.010870              75  \n",
       "3   0.016304              75  \n",
       "4   0.021739              75  "
      ]
     },
     "execution_count": 6,
     "metadata": {},
     "output_type": "execute_result"
    }
   ],
   "source": [
    "columns = df.columns[:-1]\n",
    "for column in columns:\n",
    "    scaler = sklearn.preprocessing.MinMaxScaler()\n",
    "    df[column] = scaler.fit_transform(df[column].to_numpy().reshape(-1, 1))\n",
    "df.head(5)"
   ]
  },
  {
   "cell_type": "code",
   "execution_count": 7,
   "metadata": {},
   "outputs": [
    {
     "data": {
      "text/html": [
       "<div>\n",
       "<style scoped>\n",
       "    .dataframe tbody tr th:only-of-type {\n",
       "        vertical-align: middle;\n",
       "    }\n",
       "\n",
       "    .dataframe tbody tr th {\n",
       "        vertical-align: top;\n",
       "    }\n",
       "\n",
       "    .dataframe thead th {\n",
       "        text-align: right;\n",
       "    }\n",
       "</style>\n",
       "<table border=\"1\" class=\"dataframe\">\n",
       "  <thead>\n",
       "    <tr style=\"text-align: right;\">\n",
       "      <th></th>\n",
       "      <th>min_players</th>\n",
       "      <th>max_players</th>\n",
       "      <th>min_playtime</th>\n",
       "      <th>max_playtime</th>\n",
       "      <th>playing_time</th>\n",
       "      <th>min_age</th>\n",
       "      <th>complexity_rating</th>\n",
       "      <th>user_ratings</th>\n",
       "      <th>user_comments</th>\n",
       "      <th>type</th>\n",
       "      <th>category</th>\n",
       "      <th>mechanism</th>\n",
       "      <th>average_rating</th>\n",
       "    </tr>\n",
       "  </thead>\n",
       "  <tbody>\n",
       "    <tr>\n",
       "      <th>22652</th>\n",
       "      <td>0.142857</td>\n",
       "      <td>0.020202</td>\n",
       "      <td>0.123783</td>\n",
       "      <td>0.123783</td>\n",
       "      <td>0.123783</td>\n",
       "      <td>0.428571</td>\n",
       "      <td>0.500</td>\n",
       "      <td>0.000857</td>\n",
       "      <td>0.00175</td>\n",
       "      <td>0.250</td>\n",
       "      <td>0.345238</td>\n",
       "      <td>0.114130</td>\n",
       "      <td>73</td>\n",
       "    </tr>\n",
       "    <tr>\n",
       "      <th>16812</th>\n",
       "      <td>0.142857</td>\n",
       "      <td>0.040404</td>\n",
       "      <td>0.165508</td>\n",
       "      <td>0.165508</td>\n",
       "      <td>0.165508</td>\n",
       "      <td>0.357143</td>\n",
       "      <td>0.435</td>\n",
       "      <td>0.013001</td>\n",
       "      <td>0.03300</td>\n",
       "      <td>0.250</td>\n",
       "      <td>0.500000</td>\n",
       "      <td>0.027174</td>\n",
       "      <td>77</td>\n",
       "    </tr>\n",
       "    <tr>\n",
       "      <th>37787</th>\n",
       "      <td>0.142857</td>\n",
       "      <td>0.030303</td>\n",
       "      <td>0.026426</td>\n",
       "      <td>0.123783</td>\n",
       "      <td>0.075104</td>\n",
       "      <td>0.178571</td>\n",
       "      <td>0.375</td>\n",
       "      <td>0.000190</td>\n",
       "      <td>0.00075</td>\n",
       "      <td>0.250</td>\n",
       "      <td>0.773810</td>\n",
       "      <td>0.288043</td>\n",
       "      <td>90</td>\n",
       "    </tr>\n",
       "    <tr>\n",
       "      <th>1753</th>\n",
       "      <td>0.142857</td>\n",
       "      <td>0.050505</td>\n",
       "      <td>0.082058</td>\n",
       "      <td>0.082058</td>\n",
       "      <td>0.082058</td>\n",
       "      <td>0.285714</td>\n",
       "      <td>0.255</td>\n",
       "      <td>0.061860</td>\n",
       "      <td>0.12325</td>\n",
       "      <td>0.375</td>\n",
       "      <td>0.154762</td>\n",
       "      <td>0.217391</td>\n",
       "      <td>62</td>\n",
       "    </tr>\n",
       "    <tr>\n",
       "      <th>29977</th>\n",
       "      <td>0.000000</td>\n",
       "      <td>0.040404</td>\n",
       "      <td>0.054242</td>\n",
       "      <td>0.137691</td>\n",
       "      <td>0.095967</td>\n",
       "      <td>0.357143</td>\n",
       "      <td>0.000</td>\n",
       "      <td>0.000238</td>\n",
       "      <td>0.00050</td>\n",
       "      <td>0.250</td>\n",
       "      <td>0.142857</td>\n",
       "      <td>0.211957</td>\n",
       "      <td>76</td>\n",
       "    </tr>\n",
       "  </tbody>\n",
       "</table>\n",
       "</div>"
      ],
      "text/plain": [
       "       min_players  max_players  min_playtime  max_playtime  playing_time  \\\n",
       "22652     0.142857     0.020202      0.123783      0.123783      0.123783   \n",
       "16812     0.142857     0.040404      0.165508      0.165508      0.165508   \n",
       "37787     0.142857     0.030303      0.026426      0.123783      0.075104   \n",
       "1753      0.142857     0.050505      0.082058      0.082058      0.082058   \n",
       "29977     0.000000     0.040404      0.054242      0.137691      0.095967   \n",
       "\n",
       "        min_age  complexity_rating  user_ratings  user_comments   type  \\\n",
       "22652  0.428571              0.500      0.000857        0.00175  0.250   \n",
       "16812  0.357143              0.435      0.013001        0.03300  0.250   \n",
       "37787  0.178571              0.375      0.000190        0.00075  0.250   \n",
       "1753   0.285714              0.255      0.061860        0.12325  0.375   \n",
       "29977  0.357143              0.000      0.000238        0.00050  0.250   \n",
       "\n",
       "       category  mechanism  average_rating  \n",
       "22652  0.345238   0.114130              73  \n",
       "16812  0.500000   0.027174              77  \n",
       "37787  0.773810   0.288043              90  \n",
       "1753   0.154762   0.217391              62  \n",
       "29977  0.142857   0.211957              76  "
      ]
     },
     "execution_count": 7,
     "metadata": {},
     "output_type": "execute_result"
    }
   ],
   "source": [
    "df = df.sample(frac=1, replace = False)\n",
    "df.head(5)"
   ]
  },
  {
   "cell_type": "code",
   "execution_count": 8,
   "metadata": {},
   "outputs": [
    {
     "name": "stdout",
     "output_type": "stream",
     "text": [
      "Train shape: (33542, 13)\n",
      " Test shape: (8385, 13)\n"
     ]
    }
   ],
   "source": [
    "train_sample, test_sample = df.iloc[:round(df.shape[0] * 0.8)][:], df.iloc[round(df.shape[0] * 0.8):][:]\n",
    "print(\n",
    "    f\"Train shape: {train_sample.shape}\\n\",\n",
    "    f\"Test shape: {test_sample.shape}\"\n",
    ")"
   ]
  },
  {
   "cell_type": "markdown",
   "metadata": {},
   "source": [
    "<a id=\"1.2\"></a>\n",
    "<h2 style=\" font-family: Arial; font-size: 20px; font-style: normal; font-weight: normal; text-decoration: none; text-transform: none; letter-spacing: 2px; color: #008B8B; padding: 15px; border-top: 2px solid blue; border-bottom: 2px solid blue;\n",
    "\"><b>Training </b> model"
   ]
  },
  {
   "cell_type": "markdown",
   "metadata": {},
   "source": [
    "### Model Decision Tree"
   ]
  },
  {
   "cell_type": "code",
   "execution_count": 9,
   "metadata": {},
   "outputs": [],
   "source": [
    "def getTrainValSample(data, fold):\n",
    "    beginPos = round(data.shape[0] * fold / 10)\n",
    "    length = round(data.shape[0] * 1 / 10)\n",
    "\n",
    "    train = pd.concat([data.iloc[0 : beginPos][:], data.iloc[beginPos + length:][:]]).to_numpy()\n",
    "    val = data.iloc[beginPos: beginPos + length][:].to_numpy()\n",
    "\n",
    "    x_train, y_train = train[:, :-1], train[:, -1]\n",
    "    x_val, y_val = val[:, :-1], val[:, -1]\n",
    "    return (x_train, y_train), (x_val, y_val)"
   ]
  },
  {
   "cell_type": "code",
   "execution_count": 10,
   "metadata": {},
   "outputs": [],
   "source": [
    "train_errors_decision_tree = []\n",
    "val_errors_decision_tree = []\n",
    "for i in range(10):\n",
    "    train, val = getTrainValSample(train_sample, i)\n",
    "    model = DecisionTreeClassifier(criterion=\"gini\")\n",
    "    model.fit(train[0], train[1])\n",
    "    train_errors_decision_tree.append(model.score(train[0], train[1]))\n",
    "    val_errors_decision_tree.append(model.score(val[0], val[1]))\n",
    "    \n",
    "decisionModel = pd.DataFrame({'Train Accuracy': train_errors_decision_tree,\n",
    "                 'Validation Accuracy': val_errors_decision_tree\n",
    "                 })"
   ]
  },
  {
   "cell_type": "code",
   "execution_count": 11,
   "metadata": {},
   "outputs": [
    {
     "data": {
      "image/png": "[encoded data removed]",
      "text/plain": [
       "<Figure size 800x500 with 1 Axes>"
      ]
     },
     "metadata": {},
     "output_type": "display_data"
    }
   ],
   "source": [
    "fig, ax = plt.subplots(figsize=(8, 5))\n",
    "decision_tree_train_line, = ax.plot(decisionModel['Train Accuracy'])\n",
    "decision_tree_val_line, = ax.plot(decisionModel['Validation Accuracy'])\n",
    "ax.set_title(\"Decision Tree Model\")\n",
    "ax.set_xlabel(\"Fold\")\n",
    "ax.set_ylabel(\"Accuracy\")\n",
    "ax.set_yticks(np.linspace(0.9, 1, num=5))\n",
    "ax.legend([decision_tree_train_line, decision_tree_val_line], decisionModel.columns, loc = \"lower right\")\n",
    "plt.show()"
   ]
  },
  {
   "cell_type": "markdown",
   "metadata": {},
   "source": [
    "### Model Native-Bayes"
   ]
  },
  {
   "cell_type": "code",
   "execution_count": 12,
   "metadata": {},
   "outputs": [],
   "source": [
    "train_errors_bayes = []\n",
    "val_errors_bayes = []\n",
    "for i in range(10):\n",
    "    train, val = getTrainValSample(train_sample, i)\n",
    "    model = GaussianNB()\n",
    "    model.fit(train[0], train[1])\n",
    "    train_errors_bayes.append(model.score(train[0], train[1]))\n",
    "    val_errors_bayes.append(model.score(val[0], val[1]))\n",
    "    \n",
    "BayesModel = pd.DataFrame({'Train Accuracy': train_errors_bayes,\n",
    "                 'Validation Accuracy': val_errors_bayes\n",
    "                 })"
   ]
  },
  {
   "cell_type": "code",
   "execution_count": 13,
   "metadata": {},
   "outputs": [
    {
     "data": {
      "image/png": "[encoded data removed]",
      "text/plain": [
       "<Figure size 800x500 with 1 Axes>"
      ]
     },
     "metadata": {},
     "output_type": "display_data"
    }
   ],
   "source": [
    "fig, ax = plt.subplots(figsize=(8, 5))\n",
    "bayes_train_line, = ax.plot(BayesModel['Train Accuracy'])\n",
    "bayes_val_line, = ax.plot(BayesModel['Validation Accuracy'])\n",
    "ax.set_title(\"Bayes Model\")\n",
    "ax.set_xlabel(\"Fold\")\n",
    "ax.set_ylabel(\"Accuracy\")\n",
    "ax.legend([bayes_train_line, bayes_val_line], BayesModel.columns, loc = \"lower right\")\n",
    "plt.show()"
   ]
  },
  {
   "cell_type": "markdown",
   "metadata": {},
   "source": [
    "### Model FC with:\n",
    "- First hidden layer: 1024 node, use 'relu' activation\n",
    "- Second hidden layer: 512 node, use 'relu' activation\n",
    "- Output layer: 101 node, use 'softmax' activation"
   ]
  },
  {
   "cell_type": "code",
   "execution_count": 14,
   "metadata": {},
   "outputs": [
    {
     "name": "stdout",
     "output_type": "stream",
     "text": [
      "Epoch 1/5\n",
      "944/944 [==============================] - 9s 9ms/step - loss: 4.3078 - sparse_top_k_categorical_accuracy: 0.2011 - val_loss: 3.9220 - val_sparse_top_k_categorical_accuracy: 0.2188\n",
      "Epoch 2/5\n",
      "944/944 [==============================] - 8s 8ms/step - loss: 3.8956 - sparse_top_k_categorical_accuracy: 0.2090 - val_loss: 3.8544 - val_sparse_top_k_categorical_accuracy: 0.2138\n",
      "Epoch 3/5\n",
      "944/944 [==============================] - 8s 9ms/step - loss: 3.8675 - sparse_top_k_categorical_accuracy: 0.2130 - val_loss: 3.8376 - val_sparse_top_k_categorical_accuracy: 0.2135\n",
      "Epoch 4/5\n",
      "944/944 [==============================] - 9s 9ms/step - loss: 3.8505 - sparse_top_k_categorical_accuracy: 0.2198 - val_loss: 3.8218 - val_sparse_top_k_categorical_accuracy: 0.2314\n",
      "Epoch 5/5\n",
      "944/944 [==============================] - 9s 9ms/step - loss: 3.8298 - sparse_top_k_categorical_accuracy: 0.2300 - val_loss: 3.7960 - val_sparse_top_k_categorical_accuracy: 0.2385\n",
      "Epoch 1/5\n",
      "944/944 [==============================] - 9s 9ms/step - loss: 4.2781 - sparse_top_k_categorical_accuracy: 0.2043 - val_loss: 3.9246 - val_sparse_top_k_categorical_accuracy: 0.2069\n",
      "Epoch 2/5\n",
      "944/944 [==============================] - 10s 11ms/step - loss: 3.8886 - sparse_top_k_categorical_accuracy: 0.2123 - val_loss: 3.8721 - val_sparse_top_k_categorical_accuracy: 0.2194\n",
      "Epoch 3/5\n",
      "944/944 [==============================] - 10s 11ms/step - loss: 3.8626 - sparse_top_k_categorical_accuracy: 0.2136 - val_loss: 3.8569 - val_sparse_top_k_categorical_accuracy: 0.2188\n",
      "Epoch 4/5\n",
      "944/944 [==============================] - 9s 10ms/step - loss: 3.8454 - sparse_top_k_categorical_accuracy: 0.2222 - val_loss: 3.8442 - val_sparse_top_k_categorical_accuracy: 0.2203\n",
      "Epoch 5/5\n",
      "944/944 [==============================] - 9s 9ms/step - loss: 3.8232 - sparse_top_k_categorical_accuracy: 0.2303 - val_loss: 3.8122 - val_sparse_top_k_categorical_accuracy: 0.2430\n",
      "Epoch 1/5\n",
      "944/944 [==============================] - 11s 11ms/step - loss: 4.2800 - sparse_top_k_categorical_accuracy: 0.2023 - val_loss: 3.9489 - val_sparse_top_k_categorical_accuracy: 0.2048\n",
      "Epoch 2/5\n",
      "944/944 [==============================] - 9s 9ms/step - loss: 3.8858 - sparse_top_k_categorical_accuracy: 0.2149 - val_loss: 3.8974 - val_sparse_top_k_categorical_accuracy: 0.2075\n",
      "Epoch 3/5\n",
      "944/944 [==============================] - 8s 9ms/step - loss: 3.8598 - sparse_top_k_categorical_accuracy: 0.2186 - val_loss: 3.8770 - val_sparse_top_k_categorical_accuracy: 0.2114\n",
      "Epoch 4/5\n",
      "944/944 [==============================] - 8s 9ms/step - loss: 3.8422 - sparse_top_k_categorical_accuracy: 0.2243 - val_loss: 3.8581 - val_sparse_top_k_categorical_accuracy: 0.2141\n",
      "Epoch 5/5\n",
      "944/944 [==============================] - 8s 9ms/step - loss: 3.8189 - sparse_top_k_categorical_accuracy: 0.2357 - val_loss: 3.8317 - val_sparse_top_k_categorical_accuracy: 0.2197\n",
      "Epoch 1/5\n",
      "944/944 [==============================] - 9s 9ms/step - loss: 4.2814 - sparse_top_k_categorical_accuracy: 0.2052 - val_loss: 3.9335 - val_sparse_top_k_categorical_accuracy: 0.1989\n",
      "Epoch 2/5\n",
      "944/944 [==============================] - 9s 9ms/step - loss: 3.8911 - sparse_top_k_categorical_accuracy: 0.2147 - val_loss: 3.8731 - val_sparse_top_k_categorical_accuracy: 0.1968\n",
      "Epoch 3/5\n",
      "944/944 [==============================] - 9s 9ms/step - loss: 3.8631 - sparse_top_k_categorical_accuracy: 0.2176 - val_loss: 3.8578 - val_sparse_top_k_categorical_accuracy: 0.2263\n",
      "Epoch 4/5\n",
      "944/944 [==============================] - 8s 9ms/step - loss: 3.8438 - sparse_top_k_categorical_accuracy: 0.2244 - val_loss: 3.8329 - val_sparse_top_k_categorical_accuracy: 0.2275\n",
      "Epoch 5/5\n",
      "944/944 [==============================] - 8s 9ms/step - loss: 3.8185 - sparse_top_k_categorical_accuracy: 0.2364 - val_loss: 3.8073 - val_sparse_top_k_categorical_accuracy: 0.2239\n",
      "Epoch 1/5\n",
      "944/944 [==============================] - 9s 9ms/step - loss: 4.2923 - sparse_top_k_categorical_accuracy: 0.2044 - val_loss: 3.9188 - val_sparse_top_k_categorical_accuracy: 0.2233\n",
      "Epoch 2/5\n",
      "944/944 [==============================] - 9s 10ms/step - loss: 3.8911 - sparse_top_k_categorical_accuracy: 0.2139 - val_loss: 3.8624 - val_sparse_top_k_categorical_accuracy: 0.2153\n",
      "Epoch 3/5\n",
      "944/944 [==============================] - 8s 9ms/step - loss: 3.8628 - sparse_top_k_categorical_accuracy: 0.2157 - val_loss: 3.8481 - val_sparse_top_k_categorical_accuracy: 0.2197\n",
      "Epoch 4/5\n",
      "944/944 [==============================] - 9s 9ms/step - loss: 3.8439 - sparse_top_k_categorical_accuracy: 0.2247 - val_loss: 3.8258 - val_sparse_top_k_categorical_accuracy: 0.2245\n",
      "Epoch 5/5\n",
      "944/944 [==============================] - 9s 9ms/step - loss: 3.8200 - sparse_top_k_categorical_accuracy: 0.2341 - val_loss: 3.7996 - val_sparse_top_k_categorical_accuracy: 0.2439\n",
      "Epoch 1/5\n",
      "944/944 [==============================] - 9s 9ms/step - loss: 4.2684 - sparse_top_k_categorical_accuracy: 0.2047 - val_loss: 3.9291 - val_sparse_top_k_categorical_accuracy: 0.2182\n",
      "Epoch 2/5\n",
      "944/944 [==============================] - 8s 9ms/step - loss: 3.8885 - sparse_top_k_categorical_accuracy: 0.2121 - val_loss: 3.8729 - val_sparse_top_k_categorical_accuracy: 0.2194\n",
      "Epoch 3/5\n",
      "944/944 [==============================] - 8s 9ms/step - loss: 3.8617 - sparse_top_k_categorical_accuracy: 0.2162 - val_loss: 3.8544 - val_sparse_top_k_categorical_accuracy: 0.2400\n",
      "Epoch 4/5\n",
      "944/944 [==============================] - 8s 9ms/step - loss: 3.8432 - sparse_top_k_categorical_accuracy: 0.2236 - val_loss: 3.8352 - val_sparse_top_k_categorical_accuracy: 0.2296\n",
      "Epoch 5/5\n",
      "944/944 [==============================] - 8s 9ms/step - loss: 3.8190 - sparse_top_k_categorical_accuracy: 0.2326 - val_loss: 3.8038 - val_sparse_top_k_categorical_accuracy: 0.2513\n",
      "Epoch 1/5\n",
      "944/944 [==============================] - 9s 9ms/step - loss: 4.2722 - sparse_top_k_categorical_accuracy: 0.2010 - val_loss: 3.9391 - val_sparse_top_k_categorical_accuracy: 0.2182\n",
      "Epoch 2/5\n",
      "944/944 [==============================] - 9s 9ms/step - loss: 3.8897 - sparse_top_k_categorical_accuracy: 0.2128 - val_loss: 3.8768 - val_sparse_top_k_categorical_accuracy: 0.2194\n",
      "Epoch 3/5\n",
      "944/944 [==============================] - 8s 9ms/step - loss: 3.8624 - sparse_top_k_categorical_accuracy: 0.2165 - val_loss: 3.8620 - val_sparse_top_k_categorical_accuracy: 0.2084\n",
      "Epoch 4/5\n",
      "944/944 [==============================] - 8s 9ms/step - loss: 3.8439 - sparse_top_k_categorical_accuracy: 0.2230 - val_loss: 3.8375 - val_sparse_top_k_categorical_accuracy: 0.2320\n",
      "Epoch 5/5\n",
      "944/944 [==============================] - 8s 9ms/step - loss: 3.8197 - sparse_top_k_categorical_accuracy: 0.2368 - val_loss: 3.8099 - val_sparse_top_k_categorical_accuracy: 0.2528\n",
      "Epoch 1/5\n",
      "944/944 [==============================] - 9s 9ms/step - loss: 4.3037 - sparse_top_k_categorical_accuracy: 0.2027 - val_loss: 3.9372 - val_sparse_top_k_categorical_accuracy: 0.2135\n",
      "Epoch 2/5\n",
      "944/944 [==============================] - 8s 9ms/step - loss: 3.8950 - sparse_top_k_categorical_accuracy: 0.2107 - val_loss: 3.8674 - val_sparse_top_k_categorical_accuracy: 0.2191\n",
      "Epoch 3/5\n",
      "944/944 [==============================] - 9s 10ms/step - loss: 3.8677 - sparse_top_k_categorical_accuracy: 0.2135 - val_loss: 3.8488 - val_sparse_top_k_categorical_accuracy: 0.2138\n",
      "Epoch 4/5\n",
      "944/944 [==============================] - 11s 12ms/step - loss: 3.8523 - sparse_top_k_categorical_accuracy: 0.2203 - val_loss: 3.8380 - val_sparse_top_k_categorical_accuracy: 0.2159\n",
      "Epoch 5/5\n",
      "944/944 [==============================] - 10s 10ms/step - loss: 3.8317 - sparse_top_k_categorical_accuracy: 0.2301 - val_loss: 3.8156 - val_sparse_top_k_categorical_accuracy: 0.2418\n",
      "Epoch 1/5\n",
      "944/944 [==============================] - 10s 10ms/step - loss: 4.2633 - sparse_top_k_categorical_accuracy: 0.2051 - val_loss: 3.9193 - val_sparse_top_k_categorical_accuracy: 0.2150\n",
      "Epoch 2/5\n",
      "944/944 [==============================] - 8s 9ms/step - loss: 3.8866 - sparse_top_k_categorical_accuracy: 0.2124 - val_loss: 3.8787 - val_sparse_top_k_categorical_accuracy: 0.2162\n",
      "Epoch 3/5\n",
      "944/944 [==============================] - 8s 9ms/step - loss: 3.8632 - sparse_top_k_categorical_accuracy: 0.2142 - val_loss: 3.8615 - val_sparse_top_k_categorical_accuracy: 0.2168\n",
      "Epoch 4/5\n",
      "944/944 [==============================] - 8s 9ms/step - loss: 3.8460 - sparse_top_k_categorical_accuracy: 0.2222 - val_loss: 3.8416 - val_sparse_top_k_categorical_accuracy: 0.2281\n",
      "Epoch 5/5\n",
      "944/944 [==============================] - 8s 9ms/step - loss: 3.8224 - sparse_top_k_categorical_accuracy: 0.2323 - val_loss: 3.8200 - val_sparse_top_k_categorical_accuracy: 0.2367\n",
      "Epoch 1/5\n",
      "944/944 [==============================] - 9s 9ms/step - loss: 4.2851 - sparse_top_k_categorical_accuracy: 0.2018 - val_loss: 3.9345 - val_sparse_top_k_categorical_accuracy: 0.2030\n",
      "Epoch 2/5\n",
      "944/944 [==============================] - 8s 9ms/step - loss: 3.8886 - sparse_top_k_categorical_accuracy: 0.2126 - val_loss: 3.8832 - val_sparse_top_k_categorical_accuracy: 0.2147\n",
      "Epoch 3/5\n",
      "944/944 [==============================] - 8s 9ms/step - loss: 3.8631 - sparse_top_k_categorical_accuracy: 0.2166 - val_loss: 3.8632 - val_sparse_top_k_categorical_accuracy: 0.2123\n",
      "Epoch 4/5\n",
      "944/944 [==============================] - 8s 9ms/step - loss: 3.8453 - sparse_top_k_categorical_accuracy: 0.2231 - val_loss: 3.8426 - val_sparse_top_k_categorical_accuracy: 0.2194\n",
      "Epoch 5/5\n",
      "944/944 [==============================] - 8s 9ms/step - loss: 3.8202 - sparse_top_k_categorical_accuracy: 0.2373 - val_loss: 3.8172 - val_sparse_top_k_categorical_accuracy: 0.2352\n"
     ]
    }
   ],
   "source": [
    "train_errors_FC = []\n",
    "val_errors_FC = []\n",
    "for i in range(10):\n",
    "    train, val = getTrainValSample(train_sample, i)\n",
    "    x_train = tf.convert_to_tensor(train[0], dtype='float32')\n",
    "    y_train = tf.convert_to_tensor(train[1])\n",
    "    x_val = tf.convert_to_tensor(val[0], dtype='float32')\n",
    "    y_val = tf.convert_to_tensor(val[1])\n",
    "\n",
    "    model = keras.Sequential(\n",
    "            [\n",
    "                keras.Input(shape=(12, ), name = \"Input\"),\n",
    "                keras.layers.Dense(512, activation='relu'),\n",
    "                keras.layers.Dense(1024, activation='relu'),\n",
    "                keras.layers.Dense(512, activation='relu'),\n",
    "                keras.layers.Dense(101, activation='softmax', name = 'output'),\n",
    "            ]\n",
    "        )\n",
    "    model.compile(\n",
    "            optimizer=keras.optimizers.SGD(),\n",
    "            loss=keras.losses.SparseCategoricalCrossentropy(),\n",
    "            metrics=[keras.metrics.SparseTopKCategoricalAccuracy()]\n",
    "        )\n",
    "    history = model.fit(x_train, \n",
    "                                y_train,\n",
    "                                batch_size=32,\n",
    "                                epochs=5,\n",
    "                                validation_data=(x_val, y_val),\n",
    "                            )\n",
    "    \n",
    "    train_errors_FC.append(history.history['val_sparse_top_k_categorical_accuracy'][-1])\n",
    "    val_errors_FC.append(history.history['sparse_top_k_categorical_accuracy'][-1])\n",
    "    \n",
    "FCModel = pd.DataFrame({'Train Accuracy': train_errors_FC,\n",
    "                 'Validation Accuracy': val_errors_FC\n",
    "                 })"
   ]
  },
  {
   "cell_type": "code",
   "execution_count": 15,
   "metadata": {},
   "outputs": [
    {
     "data": {
      "image/png": "[encoded data removed]",
      "text/plain": [
       "<Figure size 800x500 with 1 Axes>"
      ]
     },
     "metadata": {},
     "output_type": "display_data"
    }
   ],
   "source": [
    "fig, ax = plt.subplots(figsize=(8, 5))\n",
    "FC_model_train_line, = ax.plot(FCModel['Train Accuracy'])\n",
    "FC_model_val_line, = ax.plot(FCModel['Validation Accuracy'])\n",
    "ax.set_title(\"FC Model\")\n",
    "ax.set_xlabel(\"Fold\")\n",
    "ax.set_ylabel(\"Accuracy\")\n",
    "ax.legend([FC_model_train_line, FC_model_val_line], FCModel.columns, loc = \"lower right\")\n",
    "plt.show()"
   ]
  },
  {
   "cell_type": "code",
   "execution_count": 16,
   "metadata": {},
   "outputs": [
    {
     "data": {
      "image/png": "[encoded data removed]",
      "text/plain": [
       "<Figure size 800x500 with 1 Axes>"
      ]
     },
     "metadata": {},
     "output_type": "display_data"
    }
   ],
   "source": [
    "compare_model = {\n",
    "    'Decision Tree': decisionModel['Validation Accuracy'].mean(),\n",
    "    'Naive-Bayes': BayesModel['Validation Accuracy'].mean(),\n",
    "    'FC Model': FCModel['Validation Accuracy'].mean()\n",
    "}\n",
    "fig, ax = plt.subplots(figsize=(8, 5))\n",
    "ax.set_title(\"Visualize average accuracy model\")\n",
    "ax.set_ylabel(\"Model\")\n",
    "ax.set_xlabel(\"Average validation accuracy\")\n",
    "ax.bar(compare_model.keys(), compare_model.values())\n",
    "plt.show()"
   ]
  },
  {
   "cell_type": "markdown",
   "metadata": {},
   "source": [
    "## Comment\n",
    "As we see, 3 model will train are compared using k-fold cross validation and model Decision tree give a highest accurancy. So, we will use Decision Tree model to solve our problem"
   ]
  },
  {
   "cell_type": "code",
   "execution_count": 17,
   "metadata": {},
   "outputs": [
    {
     "name": "stdout",
     "output_type": "stream",
     "text": [
      "x_train shape: (33542, 12)\n",
      "y_train shape: (33542, 1)\n"
     ]
    }
   ],
   "source": [
    "x_train, y_train = train_sample.iloc[:, :-1], train_sample.iloc[:, -1:]\n",
    "x_test, y_test = test_sample.iloc[:, :-1], test_sample.iloc[:, -1:]\n",
    "print(f\"x_train shape: {x_train.shape}\\n\"\n",
    "      f\"y_train shape: {y_train.shape}\"\n",
    "      )"
   ]
  },
  {
   "cell_type": "code",
   "execution_count": 18,
   "metadata": {},
   "outputs": [
    {
     "data": {
      "text/plain": [
       "42"
      ]
     },
     "execution_count": 18,
     "metadata": {},
     "output_type": "execute_result"
    }
   ],
   "source": [
    "model = DecisionTreeClassifier(criterion='gini')\n",
    "model.fit(x_train, y_train)\n",
    "model.get_depth()"
   ]
  },
  {
   "cell_type": "markdown",
   "metadata": {},
   "source": [
    "<a id=\"1.2\"></a>\n",
    "<h2 style=\" font-family: Arial; font-size: 20px; font-style: normal; font-weight: normal; text-decoration: none; text-transform: none; letter-spacing: 2px; color: #008B8B; padding: 15px; border-top: 2px solid blue; border-bottom: 2px solid blue;\n",
    "\"><b>Evaluation </b>"
   ]
  },
  {
   "cell_type": "code",
   "execution_count": 19,
   "metadata": {},
   "outputs": [
    {
     "name": "stdout",
     "output_type": "stream",
     "text": [
      "accuracy Score: 0.9905491622443504\n"
     ]
    }
   ],
   "source": [
    "y_train_pred = model.predict(x_train)\n",
    "accuracy = accuracy_score(y_train, y_train_pred)\n",
    "print(f\"accuracy Score: {accuracy}\")"
   ]
  },
  {
   "cell_type": "markdown",
   "metadata": {},
   "source": [
    "<a id=\"1.2\"></a>\n",
    "<h2 style=\" font-family: Arial; font-size: 20px; font-style: normal; font-weight: normal; text-decoration: none; text-transform: none; letter-spacing: 2px; color: #008B8B; padding: 15px; border-top: 2px solid blue; border-bottom: 2px solid blue;\n",
    "\"><b>Prediction </b>"
   ]
  },
  {
   "cell_type": "code",
   "execution_count": 20,
   "metadata": {},
   "outputs": [
    {
     "name": "stdout",
     "output_type": "stream",
     "text": [
      "accuracy test: 0.9278473464519976\n"
     ]
    }
   ],
   "source": [
    "y_pred = model.predict(x_test)\n",
    "accuracy_predict = accuracy_score(y_test, y_pred)\n",
    "print(f\"accuracy test: {accuracy_predict}\")"
   ]
  },
  {
   "cell_type": "markdown",
   "metadata": {},
   "source": [
    "<a id=\"1.2\"></a>\n",
    "<h2 style=\" font-family: Arial; font-size: 20px; font-style: normal; font-weight: normal; text-decoration: none; text-transform: none; letter-spacing: 2px; color: #008B8B; padding: 15px; border-top: 2px solid blue; border-bottom: 2px solid blue;\n",
    "\"><b>Results </b> analysis"
   ]
  },
  {
   "cell_type": "code",
   "execution_count": null,
   "metadata": {},
   "outputs": [],
   "source": []
  },
  {
   "cell_type": "markdown",
   "metadata": {},
   "source": [
    "<a id=\"1.2\"></a>\n",
    "<h2 style=\" font-family: Arial; font-size: 20px; font-style: normal; font-weight: normal; text-decoration: none; text-transform: none; letter-spacing: 2px; color: #008B8B; padding: 15px; border-top: 2px solid blue; border-bottom: 2px solid blue;\n",
    "\"><b>Conclusion </b> "
   ]
  },
  {
   "cell_type": "markdown",
   "metadata": {},
   "source": []
  }
 ],
 "metadata": {
  "kernelspec": {
   "display_name": "Python 3",
   "language": "python",
   "name": "python3"
  },
  "language_info": {
   "codemirror_mode": {
    "name": "ipython",
    "version": 3
   },
   "file_extension": ".py",
   "mimetype": "text/x-python",
   "name": "python",
   "nbconvert_exporter": "python",
   "pygments_lexer": "ipython3",
   "version": "3.11.1"
  }
 },
 "nbformat": 4,
 "nbformat_minor": 2
}
