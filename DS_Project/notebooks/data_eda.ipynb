{
 "cells": [
  {
   "cell_type": "markdown",
   "metadata": {},
   "source": [
    "<a id=\"1\"></a>\n",
    "# <div style=\"padding: 20px; color: cyan; margin: 0; font-size: 30px; font-family: Arial; text-align: left; border-radius: 5px; background-color: #000000; border: 2px solid blue;\"><b>Exploratory data analysis</b></div>"
   ]
  },
  {
   "cell_type": "markdown",
   "metadata": {},
   "source": [
    "<a id=\"1.2\"></a>\n",
    "<h2 style=\" font-family: Arial; font-size: 20px; font-style: normal; font-weight: normal; text-decoration: none; text-transform: none; letter-spacing: 2px; color: #008B8B; padding: 15px; border-top: 2px solid blue; border-bottom: 2px solid blue;\n",
    "\"><b>Import</b>"
   ]
  },
  {
   "cell_type": "code",
   "execution_count": 1,
   "metadata": {},
   "outputs": [],
   "source": [
    "import os\n",
    "import sys\n",
    "\n",
    "module_path = os.path.abspath(os.path.join('..'))\n",
    "if module_path not in sys.path:\n",
    "    sys.path.append(module_path)\n",
    "    \n",
    "import warnings\n",
    "warnings.filterwarnings('ignore')\n",
    "\n",
    "import numpy as np\n",
    "import pandas as pd\n",
    "import matplotlib.pyplot as plt\n",
    "%matplotlib inline\n",
    "import seaborn as sns\n",
    "\n",
    "# YOUR CODE HERE (OPTION) \n",
    "# If you need other libraries, you can import them here"
   ]
  },
  {
   "cell_type": "markdown",
   "metadata": {},
   "source": [
    "<a id=\"1.2\"></a>\n",
    "<h2 style=\" font-family: Arial; font-size: 20px; font-style: normal; font-weight: normal; text-decoration: none; text-transform: none; letter-spacing: 2px; color: #008B8B; padding: 15px; border-top: 2px solid blue; border-bottom: 2px solid blue;\n",
    "\"><b>Exploring </b> data"
   ]
  },
  {
   "cell_type": "code",
   "execution_count": null,
   "metadata": {},
   "outputs": [],
   "source": [
    "cleaned_train_df = pd.read_csv('../data/processed/processed_train.csv')"
   ]
  },
  {
   "cell_type": "code",
   "execution_count": null,
   "metadata": {},
   "outputs": [],
   "source": [
    "cleaned_train_df.head()"
   ]
  },
  {
   "cell_type": "code",
   "execution_count": null,
   "metadata": {},
   "outputs": [],
   "source": [
    "cleaned_train_df.shape"
   ]
  },
  {
   "cell_type": "markdown",
   "metadata": {},
   "source": [
    "> <span style='font-size:15px; font-family:Arial; color: #87CEFA;'><b>\n",
    "Numerical analysis using descriptive statistics </b></span>"
   ]
  },
  {
   "cell_type": "markdown",
   "metadata": {},
   "source": [
    "[//]: <> (Text)\n",
    "<span style=\"font-size:14px; font-family:Arial; color: #FFFFFF;\"> \n",
    "\n",
    "Basic descriptive statistics include:\n",
    "\n",
    "- Mean: The average value of all the data points in the dataset.\n",
    "- Median: The middle value of the dataset when the data points are sorted in ascending order.\n",
    "- Mode: The most frequent value in the dataset.\n",
    "- Range: The difference between the largest and smallest values in the dataset.\n",
    "- Interquartile range (IQR): The difference between the 75th and 25th percentiles of the dataset.\n",
    "- Variance: A measure of how spread out the data points are around the mean.\n",
    "- Standard deviation (std dev): The square root of the variance.\n",
    "- Coefficient of variation: A measure of relative dispersion, calculated as the standard deviation divided by the mean.\n",
    "- Skewness: A measure of the asymmetry of the distribution.\n",
    "- Kurtosis: A measure of the peakedness of the distribution.\n",
    "\n",
    "</span>"
   ]
  },
  {
   "cell_type": "code",
   "execution_count": null,
   "metadata": {},
   "outputs": [],
   "source": [
    "df_copy = cleaned_train_df.select_dtypes(include=['float64', 'int64']).copy()\n",
    "df_copy.describe()"
   ]
  },
  {
   "cell_type": "markdown",
   "metadata": {},
   "source": [
    "\n",
    "[//]: <> (Text)\n",
    "<span style=\"font-size:14px; font-family:Verdana; color: #ffffff;\"> \n",
    "TODO: Give your obervation here\n",
    "</span>"
   ]
  },
  {
   "cell_type": "markdown",
   "metadata": {},
   "source": [
    "> <span style='font-size:15px; font-family:Arial; color: #87CEFA;'><b>\n",
    "Describe the correlation between features in the dataset </b></span>"
   ]
  },
  {
   "cell_type": "markdown",
   "metadata": {},
   "source": [
    "[//]: <> (Text)\n",
    "<span style=\"font-size:14px; font-family:Arial; color: #ffffff;\"> \n",
    "\n",
    "Considering the available features within the training dataset, we want to identify and analyse the relationships between them, and then determine which features within the dataset significantly contribute to our solution goal. By using calculation and visualisation, Python allows us to create a correlation matrix, which is a table that represents the correlation coefficients between different variables.\n",
    "\n",
    "</span>"
   ]
  },
  {
   "cell_type": "code",
   "execution_count": null,
   "metadata": {},
   "outputs": [],
   "source": [
    "# PRE-PROCESSING IF NEEDED\n",
    "# YOUR CODE HERE (OPTION) "
   ]
  },
  {
   "cell_type": "code",
   "execution_count": null,
   "metadata": {},
   "outputs": [],
   "source": [
    "# YOUR CODE HERE\n",
    "# create a copy\n",
    "df_copy = cleaned_train_df.select_dtypes(include=['float64', 'int64']).copy()\n",
    "\n",
    "# # Exclude the categorical features from the matrix\n",
    "# df_copy.drop(['...'], inplace=True, axis='columns')\n",
    "\n",
    "# plot a correlation matrix\n",
    "fig, ax = plt.subplots(figsize=(10,10))\n",
    "sns.heatmap(df_copy.corr(), cmap='RdBu', center=0,ax=ax)\n",
    "plt.show()"
   ]
  },
  {
   "cell_type": "markdown",
   "metadata": {},
   "source": [
    "<a id=\"1.2\"></a>\n",
    "<h2 style=\" font-family: Arial; font-size: 20px; font-style: normal; font-weight: normal; text-decoration: none; text-transform: none; letter-spacing: 2px; color: #008B8B; padding: 15px; border-top: 2px solid blue; border-bottom: 2px solid blue;\n",
    "\"><b>Making </b> question"
   ]
  },
  {
   "cell_type": "markdown",
   "metadata": {},
   "source": [
    "<span style=\"font-size:14px; font-family:Arial; color: #FFFFFF;\"> \n",
    "\n",
    "After exploring the data, we have a better understanding of the data. Now let's see what questions can be answered with this data.\n",
    "\n",
    "**A possible question is:** \n",
    "\n",
    "**Answering this question will** help us to see t\n",
    "\n",
    "**How we answer this question**: we will consider \n",
    "</span>"
   ]
  },
  {
   "cell_type": "markdown",
   "metadata": {},
   "source": [
    "> <span style='font-size:15px; font-family:Arial; color: #87CEFA;'><b>\n",
    "Pre-processing</b></span>"
   ]
  },
  {
   "cell_type": "markdown",
   "metadata": {},
   "source": [
    "\n",
    "> <span style='font-size:15px; font-family:Arial; color: #87CEFA;'><b>\n",
    "Analyzing to get the answer</b></span>"
   ]
  }
 ],
 "metadata": {
  "kernelspec": {
   "display_name": "min_ds-env",
   "language": "python",
   "name": "python3"
  },
  "language_info": {
   "codemirror_mode": {
    "name": "ipython",
    "version": 3
   },
   "file_extension": ".py",
   "mimetype": "text/x-python",
   "name": "python",
   "nbconvert_exporter": "python",
   "pygments_lexer": "ipython3",
   "version": "3.11.3"
  }
 },
 "nbformat": 4,
 "nbformat_minor": 2
}
