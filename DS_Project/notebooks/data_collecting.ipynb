{
 "cells": [
  {
   "cell_type": "markdown",
   "metadata": {},
   "source": [
    "<a id=\"1\"></a>\n",
    "# <div style=\"padding: 20px; color: cyan; margin: 0; font-size: 30px; font-family: Arial; text-align: left; border-radius: 5px; background-color: #000000; border: 2px solid blue;\"><b>Data Collecting</b></div>"
   ]
  },
  {
   "cell_type": "markdown",
   "metadata": {},
   "source": [
    "<a id=\"1.2\"></a>\n",
    "<h2 style=\" font-family: Arial; font-size: 20px; font-style: normal; font-weight: normal; text-decoration: none; text-transform: none; letter-spacing: 2px; color: #00CC99; padding: 15px; border-bottom: 2px solid blue;\n",
    "\"><b>Introduction</b>"
   ]
  },
  {
   "cell_type": "markdown",
   "metadata": {},
   "source": [
    "> <span style='font-size:15px; font-family:Arial; color: #87CEFA;'><b>\n",
    "About DATA</b></span>"
   ]
  },
  {
   "cell_type": "markdown",
   "metadata": {},
   "source": [
    "<div style=\"font-size:14px; font-family:Verdana; border-radius:10px; border: #4E5672 solid; padding: 15px; background-color: #CCFFCC; text-align:left; color: #4E5672\">\n",
    "\n",
    "<h3 align=\"left\"><font color='#4E5672'>👀 Features: </font></h3>\n",
    "\n",
    "1. **Name:** The name of the boardgame\n",
    "   \n",
    "2. **Description:**\tA brief overview of what the boardgame is about\n",
    "\n",
    "3. **Designer:** The person who created the boardgame\n",
    "\n",
    "4. **Artist:** The person who created the artwork for the boardgame\n",
    "\n",
    "5. **Publisher:** The company or person who released the boardgame\n",
    "\n",
    "6. **Min_players:** The fewest number of people who can play the boardgame\n",
    "\n",
    "7. **Max_players:** The most number of people who can play the boardgame\n",
    "\n",
    "8. **Min_playtime:** The shortest amount of time a boardgame typically takes to play (min)\n",
    "\n",
    "9.  **Max_playtime:** The longest amount of time a boardgame typically takes to play (min)\n",
    "\n",
    "10. **Playing_time:** The average amount of time a boardgame typically takes to play (min)\n",
    "\n",
    "11. **Min_age:** The recommended minimum age for players\n",
    "\n",
    "12. **Complexity_rating:** A rating of how difficult the boardgame is to learn and play (1-5, with 1 being the easiest and 5 being the most difficult)\n",
    "\n",
    "13. **User_ratings:** The number of people who have rated the boardgame\n",
    "\n",
    "14. **User_comments:** The number of comments that people have left about the boardgame \n",
    "\n",
    "15. **Type:** The general type of boardgame \n",
    "\n",
    "16. **Category:** Specific categories that the boardgame fits into (e.g., strategy, party, family)\n",
    "\n",
    "17. **Mechanism:** The main gameplay mechanics of the boardgame (e.g., dice rolling, set collection, drafting)\n",
    "\n",
    "18. **Family:** The company or group of companies that the game is associated with\n",
    "\n",
    "19. **Year:** The year that the game was released\n",
    "\n",
    "20. **Average_rating:** The average rating of the boardgame (1-10, with 10 being the best)\n",
    "</div>\n",
    "\n"
   ]
  },
  {
   "cell_type": "markdown",
   "metadata": {},
   "source": [
    "> <span style='font-size:15px; font-family:Arial; color: #87CEFA;'><b>\n",
    "About LICENSE</b></span>"
   ]
  },
  {
   "cell_type": "code",
   "execution_count": 12,
   "metadata": {},
   "outputs": [
    {
     "name": "stdout",
     "output_type": "stream",
     "text": [
      "The url is valid to collect data.\n"
     ]
    }
   ],
   "source": [
    "from src.data_module.make_dataset import check_robots_txt\n",
    "\n",
    "url = 'https://boardgamegeek.com/robots.txt'\n",
    "isValid = check_robots_txt(url)\n",
    "\n",
    "if isValid:\n",
    "    print('The url is valid to collect data.')\n",
    "else:\n",
    "    print('The url is not valid to collect data.')"
   ]
  },
  {
   "cell_type": "markdown",
   "metadata": {},
   "source": [
    "<a id=\"1.2\"></a>\n",
    "<h2 style=\" font-family: Arial; font-size: 20px; font-style: normal; font-weight: normal; text-decoration: none; text-transform: none; letter-spacing: 2px; color: #00CC99; padding: 15px;  border-bottom: 2px solid blue;\n",
    "\"><b>Import</b>"
   ]
  },
  {
   "cell_type": "code",
   "execution_count": 4,
   "metadata": {},
   "outputs": [],
   "source": [
    "import os\n",
    "import sys\n",
    "\n",
    "module_path = os.path.abspath(os.path.join('..'))\n",
    "if module_path not in sys.path:\n",
    "    sys.path.append(module_path)\n",
    "    \n",
    "from src.data_module.make_dataset import *\n",
    "import pandas as pd"
   ]
  },
  {
   "cell_type": "markdown",
   "metadata": {},
   "source": [
    "<a id=\"1.2\"></a>\n",
    "<h2 style=\" font-family: Arial; font-size: 20px; font-style: normal; font-weight: normal; text-decoration: none; text-transform: none; letter-spacing: 2px; color: #00CC99; padding: 15px;  border-bottom: 2px solid blue;\n",
    "\"><b>Crawling & Save</b> data"
   ]
  },
  {
   "cell_type": "markdown",
   "metadata": {},
   "source": [
    "> <span style='font-size:15px; font-family:Arial; color: #87CEFA;'><b>\n",
    "Automated data collection of website structure and game listings </b></span>"
   ]
  },
  {
   "cell_type": "code",
   "execution_count": null,
   "metadata": {},
   "outputs": [],
   "source": [
    "sitemap_url = 'https://boardgamegeek.com/sitemapindex'\n",
    "page_urls = getUrls(sitemap_url, 16)\n",
    "writeListToFile(page_urls, './data/external/sitemapindex.txt')\n",
    "\n",
    "for page_url in page_urls:\n",
    "    page_number = page_url.split('/')[-1].split('_')[-1]\n",
    "    urls = getUrls(page_url, 500)\n",
    "    writeListToFile(urls, f'./data/external/boardgame_urls/boardgame_urls_page_{page_number}.txt')\n",
    "    print(f'boardgame_urls_page_{page_number}... Done!')"
   ]
  },
  {
   "cell_type": "markdown",
   "metadata": {},
   "source": [
    "<div style=\"font-size:14px; font-family:Verdana; border-radius:10px; border: #4E5672 solid; padding: 15px; background-color: #CCFFCC; text-align:left; color: #4E5672\">\n",
    "\n",
    "\n",
    "<h3 align=\"left\"><font color='#4E5672'>💡 Comment:</font></h3>\n",
    "\n",
    "* **Data Acquisition Methodology**\n",
    "\n",
    "  **1. Permission Verification:** The `robots.txt` file was checked to confirm permission for data crawling.\n",
    "\n",
    "  **2. Sitemap Extraction:** The extracted sitemapindex path provided access to pages containing individual boardgame links.\n",
    "\n",
    "  **3. Limited Scope:** Due to resource constraints, only the first 16 pages (1-16) were sampled for data extraction.\n",
    "  \n",
    "  **4. Boardgame Link Collection:** 500 boardgame links were extracted from each sampled page, resulting in 16 separate files corresponding to each page.\n",
    "\n",
    "  **5. Data Storage Strategy:** Dividing the extracted links into individual files facilitates efficient data storage and retrieval.\n",
    "  \n",
    "</div>\n",
    "\n",
    "\n"
   ]
  },
  {
   "cell_type": "markdown",
   "metadata": {},
   "source": [
    "> <span style='font-size:15px; font-family:Arial; color: #87CEFA;'><b>\n",
    "Leveraging Selenium for Board Game Data Extraction and Page-Specific Data Preservation </b></span>"
   ]
  },
  {
   "cell_type": "code",
   "execution_count": null,
   "metadata": {},
   "outputs": [],
   "source": [
    "chrome_options = Options()\n",
    "chrome_options.add_argument(\"--headless\")\n",
    "\n",
    "for i in range(1, 2):\n",
    "    boardgame_urls = readListFromFile(f'./data/external/boardgame_urls/boardgame_urls_page_{i}.txt')\n",
    "    start_time = time.time()\n",
    "    data = collect_data(boardgame_urls[0], chrome_options)\n",
    "    elapsed_time = time.time() - start_time\n",
    "\n",
    "    # pd.DataFrame(data).to_csv(f'./data/raw/raw_data_pages/raw_data_page_{i}.csv', index=False)\n",
    "\n",
    "    print(f\"Elapsed time: {elapsed_time} seconds\")\n",
    "\n",
    "print(\"Done!\")"
   ]
  },
  {
   "cell_type": "markdown",
   "metadata": {},
   "source": [
    "<div style=\"font-size:14px; font-family:Verdana; border-radius:10px; border: #4E5672 solid; padding: 15px; background-color: #CCFFCC; text-align:left; color: #4E5672\">\n",
    "\n",
    "\n",
    "<h3 align=\"left\"><font color='#4E5672'>💡 Comment:</font></h3>\n",
    "\n",
    "* **Data Extraction Process**\n",
    "\n",
    "    **1. Selenium Integration:** The Selenium library was utilized to automate the process of navigating and extracting data from the website based on the compiled boardgame links from the corresponding page files.\n",
    "\n",
    "    **2. Per-Page Data Acquisition:** The process was executed on a page-by-page basis, with data extraction occurring for all 500 boardgame links within each sampled page.\n",
    "\n",
    "    **3. Field-Specific Data Collection:** For each boardgame link, a pre-defined list of relevant data fields was identified and extracted.\n",
    "\n",
    "    **4. Page-Level Data Storage:** Upon completion of data extraction for all 500 boardgames on a page, the collected information was consolidated and stored in a single CSV file dedicated to that specific page.\n",
    "\n",
    "    **5. Scalable Approach:** This methodology allows for efficient data collection and organization across multiple website pages, with the potential to handle larger datasets by processing additional pages.\n",
    "  \n",
    "</div>"
   ]
  },
  {
   "cell_type": "markdown",
   "metadata": {},
   "source": [
    "> <span style='font-size:15px; font-family:Arial; color: #87CEFA;'><b>\n",
    "Combining multiple data files and consolidating the extracted information into a single CSV file</b></span>"
   ]
  },
  {
   "cell_type": "code",
   "execution_count": 10,
   "metadata": {},
   "outputs": [],
   "source": [
    "flist = []\n",
    "for i in range(1, 17):\n",
    "    df = pd.read_csv(f'../data/raw/raw_data_pages/raw_data_page_{i}.csv')\n",
    "    flist.append(df)\n",
    "df = pd.concat(flist, ignore_index=True)\n",
    "df.to_csv('../data/raw/raw_data.csv', index=False)"
   ]
  },
  {
   "cell_type": "markdown",
   "metadata": {},
   "source": [
    "<div style=\"font-size:14px; font-family:Verdana; border-radius:10px; border: #4E5672 solid; padding: 15px; background-color: #CCFFCC; text-align:left; color: #4E5672\">\n",
    "\n",
    "\n",
    "<h3 align=\"left\"><font color='#4E5672'>💡 Comment:</font></h3>\n",
    "\n",
    "* **Data Consolidation:** Following successful data extraction for each sampled page, the individual CSV files containing boardgame information are merged into a single consolidated file. This aggregated file serves as the raw data source for subsequent analysis steps.\n",
    "  \n",
    "</div>"
   ]
  },
  {
   "cell_type": "markdown",
   "metadata": {},
   "source": []
  }
 ],
 "metadata": {
  "kernelspec": {
   "display_name": "Python 3 (ipykernel)",
   "language": "python",
   "name": "python3"
  },
  "language_info": {
   "codemirror_mode": {
    "name": "ipython",
    "version": 3
   },
   "file_extension": ".py",
   "mimetype": "text/x-python",
   "name": "python",
   "nbconvert_exporter": "python",
   "pygments_lexer": "ipython3",
   "version": "3.11.3"
  }
 },
 "nbformat": 4,
 "nbformat_minor": 4
}
