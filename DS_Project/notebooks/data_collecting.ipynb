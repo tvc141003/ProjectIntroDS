{
 "cells": [
  {
   "cell_type": "markdown",
   "metadata": {},
   "source": [
    "<a id=\"1\"></a>\n",
    "# <div style=\"padding: 20px; color: cyan; margin: 0; font-size: 30px; font-family: Arial; text-align: left; border-radius: 5px; background-color: #000000; border: 2px solid blue;\"><b>Data Collecting</b></div>"
   ]
  },
  {
   "cell_type": "markdown",
   "metadata": {},
   "source": [
    "<a id=\"1.2\"></a>\n",
    "<h2 style=\" font-family: Arial; font-size: 20px; font-style: normal; font-weight: normal; text-decoration: none; text-transform: none; letter-spacing: 2px; color: #CCFFFF; padding: 15px; border-bottom: 2px solid blue;\n",
    "\"><b>Introduction</b>"
   ]
  },
  {
   "cell_type": "markdown",
   "metadata": {},
   "source": [
    "> <span style='font-size:15px; font-family:Arial; color: #87CEFA;'><b>\n",
    "About DATA</b></span>"
   ]
  },
  {
   "cell_type": "markdown",
   "metadata": {},
   "source": [
    "\n",
    "[//]: <> (Text)\n",
    "<span style=\"font-size:14px; font-family:Verdana; color: #ffffff;\">\n",
    "\n",
    "Talk about your data\n",
    "\n",
    "</span>\n",
    "\n",
    "<table style=\"width: 100%; border-collapse: collapse;\">\n",
    "  <thead>\n",
    "    <tr>\n",
    "      <th style=\"min-width: 10px; width: 30px; background-color: #4E70BB; color: white; font-size :15px; font-weight: bold; text-align: left; padding: 8px;\">No</th>\n",
    "      <th style=\"background-color: #4E70BB; color: white; font-size :15px; font-weight: bold; text-align: left; padding: 8px;\">Indicator Code</th>\n",
    "      <th style=\"background-color: #4E70BB; color: white; font-size :15px; font-weight: bold; text-align: left; padding: 8px;\">Meaning</th>\n",
    "    </tr>\n",
    "  </thead>\n",
    "  <tbody>\n",
    "    <tr>\n",
    "      <td style=\"font-weight: bold; font-size: 14px; color: #254441; text-align: left;\">1</td>\n",
    "      <td style=\"font-weight: bold; font-size: 14px; color: #254441; text-align: left;\">Indicator Code</td>\n",
    "      <td style=\"font-size: 14px; text-align: left;\">Meaning</td>\n",
    "    </tr>\n",
    "  </tbody>\n",
    "</table>"
   ]
  },
  {
   "cell_type": "markdown",
   "metadata": {},
   "source": [
    "> <span style='font-size:15px; font-family:Arial; color: #87CEFA;'><b>\n",
    "About LICENSE</b></span>"
   ]
  },
  {
   "cell_type": "markdown",
   "metadata": {},
   "source": [
    "<a id=\"1.2\"></a>\n",
    "<h2 style=\" font-family: Arial; font-size: 20px; font-style: normal; font-weight: normal; text-decoration: none; text-transform: none; letter-spacing: 2px; color: #CCFFFF; padding: 15px;  border-bottom: 2px solid blue;\n",
    "\"><b>Import</b>"
   ]
  },
  {
   "cell_type": "code",
   "execution_count": 4,
   "metadata": {},
   "outputs": [],
   "source": [
    "import os\n",
    "import sys\n",
    "\n",
    "module_path = os.path.abspath(os.path.join('..'))\n",
    "if module_path not in sys.path:\n",
    "    sys.path.append(module_path)\n",
    "    \n",
    "from src.data_module.make_dataset import *\n",
    "import pandas as pd"
   ]
  },
  {
   "cell_type": "markdown",
   "metadata": {},
   "source": [
    "<a id=\"1.2\"></a>\n",
    "<h2 style=\" font-family: Arial; font-size: 20px; font-style: normal; font-weight: normal; text-decoration: none; text-transform: none; letter-spacing: 2px; color: #CCFFFF; padding: 15px;  border-bottom: 2px solid blue;\n",
    "\"><b>Crawling & Save</b> data"
   ]
  },
  {
   "cell_type": "code",
   "execution_count": null,
   "metadata": {},
   "outputs": [],
   "source": [
    "sitemap_url = 'https://boardgamegeek.com/sitemapindex'\n",
    "page_urls = getUrls(sitemap_url, 16)\n",
    "writeListToFile(page_urls, './data/external/sitemapindex.txt')\n",
    "\n",
    "for page_url in page_urls:\n",
    "    page_number = page_url.split('/')[-1].split('_')[-1]\n",
    "    urls = getUrls(page_url, 500)\n",
    "    writeListToFile(urls, f'./data/external/boardgame_urls/boardgame_urls_page_{page_number}.txt')\n",
    "    print(f'boardgame_urls_page_{page_number}... Done!')"
   ]
  },
  {
   "cell_type": "code",
   "execution_count": null,
   "metadata": {},
   "outputs": [],
   "source": [
    "chrome_options = Options()\n",
    "chrome_options.add_argument(\"--headless\")\n",
    "\n",
    "for i in range(1, 2):\n",
    "    boardgame_urls = readListFromFile(f'./data/external/boardgame_urls/boardgame_urls_page_{i}.txt')\n",
    "    start_time = time.time()\n",
    "    data = collect_data(boardgame_urls[0], chrome_options)\n",
    "    elapsed_time = time.time() - start_time\n",
    "\n",
    "    # pd.DataFrame(data).to_csv(f'./data/raw/raw_data_pages/raw_data_page_{i}.csv', index=False)\n",
    "\n",
    "    print(f\"Elapsed time: {elapsed_time} seconds\")\n",
    "\n",
    "print(\"Done!\")"
   ]
  },
  {
   "cell_type": "code",
   "execution_count": 10,
   "metadata": {},
   "outputs": [],
   "source": [
    "flist = []\n",
    "for i in range(1, 17):\n",
    "    df = pd.read_csv(f'../data/raw/raw_data_pages/raw_data_page_{i}.csv')\n",
    "    flist.append(df)\n",
    "df = pd.concat(flist, ignore_index=True)\n",
    "df.to_csv('../data/raw/raw_data.csv', index=False)"
   ]
  },
  {
   "cell_type": "code",
   "execution_count": null,
   "metadata": {},
   "outputs": [],
   "source": []
  }
 ],
 "metadata": {
  "kernelspec": {
   "display_name": "min_ds-env",
   "language": "python",
   "name": "python3"
  },
  "language_info": {
   "codemirror_mode": {
    "name": "ipython",
    "version": 3
   },
   "file_extension": ".py",
   "mimetype": "text/x-python",
   "name": "python",
   "nbconvert_exporter": "python",
   "pygments_lexer": "ipython3",
   "version": "3.11.3"
  }
 },
 "nbformat": 4,
 "nbformat_minor": 2
}
