{
 "cells": [
  {
   "cell_type": "markdown",
   "metadata": {},
   "source": [
    "<a id=\"1\"></a>\n",
    "# <div style=\"padding: 20px; color: cyan; margin: 0; font-size: 40px; font-family: Arial; text-align: left; border-radius: 5px; background-color: #000000; border: 2px solid blue;\"><b>Preprocessing</b></div>"
   ]
  },
  {
   "cell_type": "markdown",
   "metadata": {},
   "source": [
    "<a id=\"1.2\"></a>\n",
    "<h2 style=\" font-family: Arial; font-size: 30px; font-style: normal; font-weight: normal; text-decoration: none; text-transform: none; letter-spacing: 2px; color: #008B8B; padding: 15px; border-top: 2px solid blue; border-bottom: 2px solid blue;\n",
    "\"><b>Import</b>"
   ]
  },
  {
   "cell_type": "code",
   "execution_count": null,
   "metadata": {},
   "outputs": [],
   "source": [
    "import os\n",
    "import sys\n",
    "\n",
    "module_path = os.path.abspath(os.path.join('..'))\n",
    "if module_path not in sys.path:\n",
    "    sys.path.append(module_path)\n",
    "\n",
    "import numpy as np\n",
    "import pandas as pd\n",
    "import matplotlib.pyplot as plt\n",
    "import seaborn as sns\n",
    "\n",
    "from src.data_module import make_dataset\n",
    "print(\"Setup Complete!\")"
   ]
  },
  {
   "cell_type": "markdown",
   "metadata": {},
   "source": [
    "<a id=\"1.2\"></a>\n",
    "<h2 style=\" font-family: Arial; font-size: 30px; font-style: normal; font-weight: normal; text-decoration: none; text-transform: none; letter-spacing: 2px; color: #008B8B; padding: 15px; border-top: 2px solid blue; border-bottom: 2px solid blue;\n",
    "\"><b>Exploring</b> data"
   ]
  },
  {
   "cell_type": "markdown",
   "metadata": {},
   "source": [
    "> <span style='font-size:25px; font-family:Arial; color: #87CEFA;'><b>\n",
    "Read raw data </b></span>"
   ]
  },
  {
   "cell_type": "code",
   "execution_count": null,
   "metadata": {},
   "outputs": [],
   "source": [
    "def is_path_exists(path):\n",
    "    if not os.path.exists(path):\n",
    "        return False\n",
    "    return True"
   ]
  },
  {
   "cell_type": "code",
   "execution_count": null,
   "metadata": {},
   "outputs": [],
   "source": [
    "path = '../data/raw/raw_data.csv'\n",
    "if is_path_exists(path):\n",
    "    raw_df = pd.read_csv(path)\n",
    "else:\n",
    "    print(\"File not found!\")"
   ]
  },
  {
   "cell_type": "markdown",
   "metadata": {},
   "source": [
    "> <span style='font-size:25px; font-family:Arial; color: #87CEFA;'><b>\n",
    "Number of rows and columns in the crawled data </b></span>"
   ]
  },
  {
   "cell_type": "code",
   "execution_count": null,
   "metadata": {},
   "outputs": [],
   "source": [
    "# Data columns\n",
    "print(f\"Data shape: {raw_df.shape}\")\n",
    "print(f\"Rows = {raw_df.shape[0]} | Columns = {raw_df.shape[1]}\")"
   ]
  },
  {
   "cell_type": "code",
   "execution_count": null,
   "metadata": {},
   "outputs": [],
   "source": [
    "# Data columns\n",
    "raw_df.head(2)"
   ]
  },
  {
   "cell_type": "markdown",
   "metadata": {},
   "source": [
    "> <span style='font-size:25px; font-family:Arial; color: #87CEFA;'><b>\n",
    "De-duplicate for the raw data </b></span>"
   ]
  },
  {
   "cell_type": "code",
   "execution_count": null,
   "metadata": {},
   "outputs": [],
   "source": [
    "def is_duplicated_rows(df):\n",
    "    index = df.index\n",
    "    detect_dup_series = index.duplicated(keep='first')\n",
    "    num_duplicated_rows = detect_dup_series.sum()\n",
    "    return True if num_duplicated_rows > 0 else False"
   ]
  },
  {
   "cell_type": "code",
   "execution_count": null,
   "metadata": {},
   "outputs": [],
   "source": [
    "if is_duplicated_rows(raw_df):\n",
    "    raw_df = raw_df.drop_duplicates(keep='first')\n",
    "    print('Shape after de-deduplicate: ', raw_df.shape)\n",
    "else:\n",
    "    print('No duplicated row.')"
   ]
  },
  {
   "cell_type": "markdown",
   "metadata": {},
   "source": [
    "> <span style='font-size:25px; font-family:Arial; color: #87CEFA;'><b>\n",
    "Data type of each columns and comment about the suitability</b></span>"
   ]
  },
  {
   "cell_type": "markdown",
   "metadata": {},
   "source": [
    "[//]: <> (Text)\n",
    "<span style=\"font-size:20px; font-family:Arial;\"> \n",
    "\n",
    "Data type I think should be changed:\n",
    "- float64 -> int64: `min_players`, `max_players`, `min_playtime`, `max_playtime`, `playing_time`, `min_age`\n",
    "- float64 -> nominal: `year`\n",
    "\n",
    "</span>"
   ]
  },
  {
   "cell_type": "code",
   "execution_count": null,
   "metadata": {},
   "outputs": [],
   "source": [
    "def find_data_type(df):\n",
    "    cat_cols = df.select_dtypes(include=['object', 'bool']).columns.tolist()\n",
    "    num_cols = df.select_dtypes(exclude=['object', 'bool']).columns.tolist()\n",
    "    \n",
    "    return cat_cols, num_cols"
   ]
  },
  {
   "cell_type": "code",
   "execution_count": null,
   "metadata": {},
   "outputs": [],
   "source": [
    "cat_cols, num_cols = find_data_type(raw_df)\n",
    "print(f\"Categorical columns: {cat_cols}\")\n",
    "print(f\"Numerical columns: {num_cols}\")"
   ]
  },
  {
   "cell_type": "code",
   "execution_count": null,
   "metadata": {},
   "outputs": [],
   "source": [
    "# Raw data state\n",
    "dtype = raw_df.dtypes\n",
    "dtype"
   ]
  },
  {
   "cell_type": "markdown",
   "metadata": {},
   "source": [
    "> <span style='font-size:25px; font-family:Arial; color: #87CEFA;'><b>\n",
    "Distribution of numeric, text and categorial data</b></span>"
   ]
  },
  {
   "cell_type": "code",
   "execution_count": null,
   "metadata": {},
   "outputs": [],
   "source": [
    "# Check numeric data's status\n",
    "numeric_info = raw_df.select_dtypes(exclude=['object', 'bool'])\n",
    "\n",
    "def missing_ratio(s):\n",
    "    return (s.isna().mean() * 100).round(1)\n",
    "\n",
    "def median(df):\n",
    "    return (df.quantile(0.5)).round(1)\n",
    "\n",
    "def lower_quartile(df):\n",
    "    return (df.quantile(0.25)).round(1)\n",
    "\n",
    "def upper_quartile(df):\n",
    "    return (df.quantile(0.75)).round(1)\n",
    "\n",
    "numeric_info = numeric_info.agg([missing_ratio, \"min\", lower_quartile, median, upper_quartile, \"max\"])\n",
    "numeric_info"
   ]
  },
  {
   "cell_type": "code",
   "execution_count": null,
   "metadata": {},
   "outputs": [],
   "source": [
    "# import warnings\n",
    "# warnings.filterwarnings(\"ignore\")\n",
    "# warnings.simplefilter(action='ignore', category=FutureWarning)\n",
    "# warnings.simplefilter(action='ignore', category=UserWarning)\n",
    "# import math\n",
    "\n",
    "# num_rows = math.ceil(len(num_cols) / 3)\n",
    "# fig, ax = plt.subplots(num_rows, 3, figsize=(20, 20))\n",
    "\n",
    "# # Flatten the axes array and iterate over it and the columns simultaneously\n",
    "# for ax, col in zip(ax.flatten(), num_cols):\n",
    "#     sns.histplot(x=raw_df[col], ax=ax)\n",
    "#     ax.set_title(f\"{col} Distribution\", fontsize=15)\n",
    "#     ax.set_xlabel(col, fontsize=12)\n",
    "\n",
    "# # Remove any unused subplots\n",
    "# for ax in ax.flatten()[len(num_cols):]:\n",
    "#     ax.remove()\n",
    "\n",
    "# plt.tight_layout()\n",
    "# plt.show()"
   ]
  },
  {
   "cell_type": "code",
   "execution_count": null,
   "metadata": {},
   "outputs": [],
   "source": [
    "missing_num_cols = numeric_info.loc['missing_ratio', numeric_info.loc['missing_ratio'] > 0].index.tolist()\n",
    "print(f\"Missing columns: {missing_num_cols}\")"
   ]
  },
  {
   "cell_type": "code",
   "execution_count": null,
   "metadata": {},
   "outputs": [],
   "source": [
    "# visualize missing data"
   ]
  },
  {
   "cell_type": "code",
   "execution_count": null,
   "metadata": {},
   "outputs": [],
   "source": [
    "# Check categorial data's status\n",
    "category_info = raw_df.select_dtypes(include=['object', 'bool'])\n",
    "\n",
    "def num_values(s):\n",
    "    s = s.astype(str).str.split(',')\n",
    "    s = s.explode()\n",
    "    return len(s.value_counts())\n",
    "\n",
    "def value_ratios(s):\n",
    "    s = s.astype(str).str.split(',')\n",
    "    s = s.explode()\n",
    "    totalCount = (~s.isna()).sum()\n",
    "    return ((s.value_counts()/totalCount*100).round(1)).to_dict()\n",
    "\n",
    "category_info = category_info.agg([missing_ratio, num_values, value_ratios])\n",
    "category_info"
   ]
  },
  {
   "cell_type": "code",
   "execution_count": null,
   "metadata": {},
   "outputs": [],
   "source": [
    "missing_cat_cols = category_info.loc['missing_ratio', category_info.loc['missing_ratio'] > 0].index.tolist()\n",
    "print(f\"Missing columns: {missing_cat_cols}\")"
   ]
  },
  {
   "cell_type": "markdown",
   "metadata": {},
   "source": [
    "<a id=\"1.2\"></a>\n",
    "<h2 style=\" font-family: Arial; font-size: 30px; font-style: normal; font-weight: normal; text-decoration: none; text-transform: none; letter-spacing: 2px; color: #008B8B; padding: 15px; border-top: 2px solid blue; border-bottom: 2px solid blue;\n",
    "\"><b>Cleaning </b> data"
   ]
  },
  {
   "cell_type": "markdown",
   "metadata": {},
   "source": [
    "[//]: <> (Text)\n",
    "<span style=\"font-size:20px; font-family:Arial;\"> \n",
    "\n",
    "After understanding data, we need to clean data by:\n",
    "- `remove column with above half missing value`\n",
    "- `fill in those missing values`\n",
    "</span>"
   ]
  },
  {
   "cell_type": "code",
   "execution_count": null,
   "metadata": {},
   "outputs": [],
   "source": [
    "def drop_missing_features(df, missing_lst, threshold) -> pd.DataFrame:\n",
    "    \"\"\"Drop missing features from Pandas dataframe base on given threshold.\n",
    "\n",
    "    Args:\n",
    "        df (pd.DataFrame): Input dataframe for processing.\n",
    "        missing_lst (dict, optional): Dict missing value rate which calculated from previous stage.\n",
    "        threshold (float, optional): User threshold for dropping. (%)\n",
    "\n",
    "    Returns:\n",
    "        pd.DataFrame: Updated dataframe\n",
    "    \"\"\"\n",
    "    if (df is None) or (missing_lst is None) or (threshold is None):\n",
    "        print(f\"[LOG] Invalid.\")\n",
    "        raise ValueError\n",
    "    \n",
    "    # Create a copy of the dataframe to avoid changing the original\n",
    "    df_cp = df.copy()\n",
    "    \n",
    "    # List to maintain the columns to drop\n",
    "    cols_to_trim = []\n",
    "    \n",
    "    for key, value in missing_lst.items():\n",
    "        if float(value) > threshold:\n",
    "            cols_to_trim.append(key)\n",
    "            \n",
    "    if len(cols_to_trim) > 0:\n",
    "        # drop the columns identified using the dataframe drop() method\n",
    "        df_cp = df_cp.drop(columns=cols_to_trim)\n",
    "        print(\"[LOG] Dropped column(s): \" + \", \".join(cols_to_trim))\n",
    "    else:\n",
    "        print(\"[LOG] Have no column(s) to trim.\")\n",
    "        \n",
    "    return df_cp"
   ]
  },
  {
   "cell_type": "code",
   "execution_count": null,
   "metadata": {},
   "outputs": [],
   "source": [
    "# Drop columns with missing ratio > 50%\n",
    "dropped_missing_df = drop_missing_features(raw_df, dict(missing_df.iloc[0]), 50.0)\n",
    "dropped_missing_df.shape"
   ]
  },
  {
   "cell_type": "code",
   "execution_count": null,
   "metadata": {},
   "outputs": [],
   "source": [
    "def filling_missing_value(df) -> pd.DataFrame:\n",
    "    if (df is None):\n",
    "        print(f\"[LOG] Invalid.\")\n",
    "        raise ValueError\n",
    "    \n",
    "    # Create a copy of the dataframe to avoid changing the original\n",
    "    df_cp = df.copy()\n",
    "    \n",
    "    # Get the list of columns in the dataframe\n",
    "    cols_list = list(df_cp.columns)\n",
    "    \n",
    "    # Replace all None values with NaN, fillna only works on nans\n",
    "    df_cp.fillna(value=np.nan, inplace=True)\n",
    "    \n",
    "    # Replace all NaN values with the mean of the column values\n",
    "    for col in cols_list:\n",
    "        # categorial data\n",
    "        if df_cp[col].dtype in ['object', 'bool']:\n",
    "            df_cp[col].fillna((df_cp[col].mode()[0]), inplace=True)\n",
    "\n",
    "        # numeric data\n",
    "        elif df_cp[col].dtype in ['int64', 'float64']:\n",
    "            df_cp[col].fillna((df_cp[col].mean()), inplace=True)\n",
    "        \n",
    "    return df_cp\n",
    "    "
   ]
  },
  {
   "cell_type": "code",
   "execution_count": null,
   "metadata": {},
   "outputs": [],
   "source": [
    "# Fill missing values in dataframe\n",
    "filled_missing_df = filling_missing_value(dropped_missing_df)\n",
    "\n",
    "new_missing_df = filled_missing_df.agg([missing_ratio])\n",
    "new_missing_df"
   ]
  },
  {
   "cell_type": "markdown",
   "metadata": {},
   "source": [
    "> <span style='font-size:25px; font-family:Arial; color: #87CEFA;'><b>\n",
    "Visualizing data to find outliers </b></span>"
   ]
  },
  {
   "cell_type": "code",
   "execution_count": null,
   "metadata": {},
   "outputs": [],
   "source": [
    "# correlation matrix\n",
    "correlation_matrix = filled_missing_df.select_dtypes(exclude=['object', 'bool']).corr()\n",
    "sns.heatmap(correlation_matrix, annot=True, cmap='coolwarm', fmt=\".2f\", vmin=-1, vmax=1)\n",
    "plt.show()"
   ]
  },
  {
   "cell_type": "code",
   "execution_count": null,
   "metadata": {},
   "outputs": [],
   "source": [
    "# Visualizing data\n",
    "for col in filled_missing_df.select_dtypes(exclude=['object', 'bool']):\n",
    "    temp_df = filled_missing_df[col]\n",
    "    plt.scatter(temp_df.index, temp_df)\n",
    "    plt.title(col)\n",
    "    plt.xlabel('Index')\n",
    "    plt.ylabel(col)\n",
    "    plt.show()"
   ]
  },
  {
   "cell_type": "markdown",
   "metadata": {},
   "source": [
    "### Comment about outliers:\n",
    "\n",
    "After cleaning, there are some columns that have outliers to be eliminated: "
   ]
  },
  {
   "cell_type": "markdown",
   "metadata": {},
   "source": [
    "<a id=\"1.2\"></a>\n",
    "<h2 style=\" font-family: Arial; font-size: 30px; font-style: normal; font-weight: normal; text-decoration: none; text-transform: none; letter-spacing: 2px; color: #008B8B; padding: 15px; border-top: 2px solid blue; border-bottom: 2px solid blue;\n",
    "\"><b>Removing </b> Outliers"
   ]
  },
  {
   "cell_type": "code",
   "execution_count": null,
   "metadata": {},
   "outputs": [],
   "source": [
    "# 'min_players', 'max_players', 'min_playtime', 'max_playtime', 'playing_time'\n",
    "# remove top 0.5% highest outliers & value = 0\n",
    "column_names = ['min_players', 'max_players', 'min_playtime', 'max_playtime', 'playing_time']\n",
    "remove_outliers_df = filled_missing_df.copy()\n",
    "\n",
    "# Remove top 0.5% highest outliers\n",
    "threshold_value = remove_outliers_df[column_names].quantile(0.995)\n",
    "outlier_mask = (remove_outliers_df[column_names] <= threshold_value).all(axis=1)\n",
    "remove_outliers_df = remove_outliers_df[outlier_mask]\n",
    "\n",
    "# Remove rows where any value in 'min_players' or 'max_players' is 0\n",
    "zero_mask = (remove_outliers_df[column_names] > 0).all(axis=1)\n",
    "remove_outliers_df = remove_outliers_df[zero_mask]\n",
    "\n",
    "# Update the index\n",
    "remove_outliers_df.reset_index(drop=True, inplace=True)\n",
    "\n",
    "remove_outliers_df.shape"
   ]
  },
  {
   "cell_type": "code",
   "execution_count": null,
   "metadata": {},
   "outputs": [],
   "source": [
    "# 'Year'\n",
    "\n",
    "# remove year < 1900s\n",
    "remove_outliers_df = remove_outliers_df[remove_outliers_df['year'] >= 1900]\n",
    "\n",
    "# Reset the index after removing rows\n",
    "remove_outliers_df.reset_index(drop=True, inplace=True)\n",
    "\n",
    "remove_outliers_df.shape"
   ]
  },
  {
   "cell_type": "code",
   "execution_count": null,
   "metadata": {},
   "outputs": [],
   "source": [
    "# Visualizing data\n",
    "for col in remove_outliers_df.select_dtypes(exclude=['object', 'bool']):\n",
    "    temp_df = remove_outliers_df[col]\n",
    "    plt.scatter(temp_df.index, temp_df)\n",
    "    plt.title(col)\n",
    "    plt.xlabel('Index')\n",
    "    plt.ylabel(col)\n",
    "    plt.show()"
   ]
  },
  {
   "cell_type": "markdown",
   "metadata": {},
   "source": [
    "<a id=\"1.2\"></a>\n",
    "<h2 style=\" font-family: Arial; font-size: 30px; font-style: normal; font-weight: normal; text-decoration: none; text-transform: none; letter-spacing: 2px; color: #008B8B; padding: 15px; border-top: 2px solid blue; border-bottom: 2px solid blue;\n",
    "\"><b>Transformating </b> data"
   ]
  },
  {
   "cell_type": "markdown",
   "metadata": {},
   "source": [
    "[//]: <> (Text)\n",
    "<span style=\"font-size:20px; font-family:Arial;\"> \n",
    "\n",
    "Some column's data type is not suitable, we need to change that\n",
    "</span>"
   ]
  },
  {
   "cell_type": "code",
   "execution_count": null,
   "metadata": {},
   "outputs": [],
   "source": [
    "# Cast suitable data type for some columns\n",
    "casted_type_df = remove_outliers_df.copy()\n",
    "\n",
    "# float64 -> str\n",
    "casted_type_df['year'] = casted_type_df['year'].astype(str)\n",
    "\n",
    "# float64 -> int64\n",
    "temp_name_list = ['min_players', 'max_players', 'min_playtime', 'max_playtime', 'playing_time', 'min_age']\n",
    "casted_type_df[temp_name_list] = casted_type_df[temp_name_list].astype(np.int64)\n",
    "\n",
    "# recheck\n",
    "casted_type_df.info()"
   ]
  },
  {
   "cell_type": "code",
   "execution_count": null,
   "metadata": {},
   "outputs": [],
   "source": [
    "# drop some un-used columns: 'description', 'publisher', 'family'\n",
    "re_construct_df = casted_type_df.copy()\n",
    "re_construct_df = re_construct_df.drop(columns=['description', 'publisher', 'family'])\n",
    "re_construct_df.shape"
   ]
  },
  {
   "cell_type": "code",
   "execution_count": null,
   "metadata": {},
   "outputs": [],
   "source": [
    "# re-construct some columns: 'category', 'mechanism'\n",
    "re_construct_df['category'] = re_construct_df['category'].apply(lambda x: [category.strip() for category in x.split(',')])\n",
    "re_construct_df['mechanism'] = re_construct_df['mechanism'].apply(lambda x: [mechanism.strip() for mechanism in x.split(',')])\n",
    "\n",
    "re_construct_df.head(1)[['category', 'mechanism']]"
   ]
  },
  {
   "cell_type": "code",
   "execution_count": null,
   "metadata": {},
   "outputs": [],
   "source": [
    "re_construct_df = re_construct_df.explode('category')\n",
    "re_construct_df = re_construct_df.explode('mechanism')"
   ]
  },
  {
   "cell_type": "code",
   "execution_count": null,
   "metadata": {},
   "outputs": [],
   "source": [
    "re_construct_df.shape"
   ]
  },
  {
   "cell_type": "markdown",
   "metadata": {},
   "source": [
    "<a id=\"1.2\"></a>\n",
    "<h2 style=\" font-family: Arial; font-size: 20px; font-style: normal; font-weight: normal; text-decoration: none; text-transform: none; letter-spacing: 2px; color: #008B8B; padding: 15px; border-top: 2px solid blue; border-bottom: 2px solid blue;\n",
    "\"><b>Saving </b> data"
   ]
  },
  {
   "cell_type": "code",
   "execution_count": null,
   "metadata": {},
   "outputs": [],
   "source": [
    "# final check\n",
    "final_df = re_construct_df.copy()\n",
    "final_df.info()"
   ]
  },
  {
   "cell_type": "code",
   "execution_count": null,
   "metadata": {},
   "outputs": [],
   "source": [
    "final_df.head(2)"
   ]
  },
  {
   "cell_type": "code",
   "execution_count": null,
   "metadata": {},
   "outputs": [],
   "source": [
    "# Save preprocessed data into csv file\n",
    "preprocessed_df = final_df.copy()\n",
    "preprocessed_df.to_csv(f\"../data/processed/processed_data.csv\", index=False)"
   ]
  }
 ],
 "metadata": {
  "kernelspec": {
   "display_name": "min_ds-env",
   "language": "python",
   "name": "python3"
  },
  "language_info": {
   "codemirror_mode": {
    "name": "ipython",
    "version": 3
   },
   "file_extension": ".py",
   "mimetype": "text/x-python",
   "name": "python",
   "nbconvert_exporter": "python",
   "pygments_lexer": "ipython3",
   "version": "3.11.3"
  }
 },
 "nbformat": 4,
 "nbformat_minor": 2
}
